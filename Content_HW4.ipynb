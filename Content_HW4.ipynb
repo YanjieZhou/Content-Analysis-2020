{
 "cells": [
  {
   "cell_type": "code",
   "execution_count": 2,
   "metadata": {},
   "outputs": [],
   "source": [
    "#Special module written for this class\n",
    "#This provides access to data and to helper functions from previous weeks\n",
    "import lucem_illud_2020 #pip install git+git://github.com/Computational-Content-Analysis-2020/lucem_illud_2020.git\n",
    "\n",
    "#All these packages need to be installed from pip\n",
    "import requests #for http requests\n",
    "import pandas as pd #gives us DataFrames\n",
    "import matplotlib.pyplot as plt #For graphics\n",
    "import wordcloud #Makes word clouds\n",
    "import numpy as np #For divergences/distances\n",
    "import scipy #For divergences/distances\n",
    "import seaborn as sns #makes our plots look nicer\n",
    "import sklearn.manifold #For a manifold plot\n",
    "import json #For API responses\n",
    "import urllib.parse #For joining urls\n",
    "\n",
    "# comp-linguistics\n",
    "import spacy\n",
    "\n",
    "#Displays the graphs\n",
    "import graphviz #You also need to install the command line graphviz\n",
    "\n",
    "#These are from the standard library\n",
    "import os.path\n",
    "import zipfile\n",
    "import subprocess\n",
    "import io\n",
    "import tempfile\n",
    "import csv\n",
    "\n",
    "#This 'magic' command makes the plots work better\n",
    "#in the notebook, don't use it outside of a notebook\n",
    "%matplotlib inline"
   ]
  },
  {
   "cell_type": "markdown",
   "metadata": {},
   "source": [
    "## <span style=\"color:red\">*Exercise 1*</span>\n",
    "\n",
    "<span style=\"color:red\">Construct cells immediately below this that input and interrogate a corpus relating to your anticipated final project. This could include one of the Davies corpora or some other you have constructed. Turn your text into an nltk `Text` object, and explore all of the features examined above, and others that relate to better understanding your corpus in relation to your research question. </span>"
   ]
  },
  {
   "cell_type": "code",
   "execution_count": 2,
   "metadata": {},
   "outputs": [
    {
     "data": {
      "text/html": [
       "<div>\n",
       "<style scoped>\n",
       "    .dataframe tbody tr th:only-of-type {\n",
       "        vertical-align: middle;\n",
       "    }\n",
       "\n",
       "    .dataframe tbody tr th {\n",
       "        vertical-align: top;\n",
       "    }\n",
       "\n",
       "    .dataframe thead th {\n",
       "        text-align: right;\n",
       "    }\n",
       "</style>\n",
       "<table border=\"1\" class=\"dataframe\">\n",
       "  <thead>\n",
       "    <tr style=\"text-align: right;\">\n",
       "      <th></th>\n",
       "      <th>id</th>\n",
       "      <th>parent_id</th>\n",
       "      <th>subreddit_id</th>\n",
       "      <th>link_id</th>\n",
       "      <th>text</th>\n",
       "      <th>score</th>\n",
       "      <th>ups</th>\n",
       "      <th>author</th>\n",
       "      <th>controversiality</th>\n",
       "      <th>parent_link_id</th>\n",
       "      <th>parent_text</th>\n",
       "      <th>parent_score</th>\n",
       "      <th>parent_ups</th>\n",
       "      <th>parent_author</th>\n",
       "      <th>parent_controversiality</th>\n",
       "    </tr>\n",
       "  </thead>\n",
       "  <tbody>\n",
       "    <tr>\n",
       "      <th>0</th>\n",
       "      <td>c0a2d2p</td>\n",
       "      <td>t1_c0a2cn1</td>\n",
       "      <td>t5_1a8ah</td>\n",
       "      <td>t3_8pr4w</td>\n",
       "      <td>Na, not really. \\n\\nI just hate islam and ever...</td>\n",
       "      <td>-2946</td>\n",
       "      <td>-2946</td>\n",
       "      <td>b34nz</td>\n",
       "      <td>0</td>\n",
       "      <td>t3_8pr4w</td>\n",
       "      <td>What goes through the heads of you people?  Is...</td>\n",
       "      <td>459</td>\n",
       "      <td>459</td>\n",
       "      <td>[deleted]</td>\n",
       "      <td>0</td>\n",
       "    </tr>\n",
       "    <tr>\n",
       "      <th>1</th>\n",
       "      <td>c6okok8</td>\n",
       "      <td>t1_c6oaywb</td>\n",
       "      <td>t5_2s8e9</td>\n",
       "      <td>t3_11otij</td>\n",
       "      <td>lol you're some ugly ass white dude</td>\n",
       "      <td>-2724</td>\n",
       "      <td>-2724</td>\n",
       "      <td>letmetellyouhowitis</td>\n",
       "      <td>0</td>\n",
       "      <td>t3_11otij</td>\n",
       "      <td>This is worth noting.\\n\\nThankfully I don't.</td>\n",
       "      <td>72</td>\n",
       "      <td>72</td>\n",
       "      <td>flowen65</td>\n",
       "      <td>0</td>\n",
       "    </tr>\n",
       "    <tr>\n",
       "      <th>2</th>\n",
       "      <td>c3nlalf</td>\n",
       "      <td>t1_c3nijr7</td>\n",
       "      <td>t5_2qzb6</td>\n",
       "      <td>t3_p9a1v</td>\n",
       "      <td>First of off, its not true, and second off, I ...</td>\n",
       "      <td>-2132</td>\n",
       "      <td>-2132</td>\n",
       "      <td>iamwoodyharrelson</td>\n",
       "      <td>0</td>\n",
       "      <td>t3_p9a1v</td>\n",
       "      <td>I swear this is *(allegedly)* a true story.  I...</td>\n",
       "      <td>4028</td>\n",
       "      <td>4028</td>\n",
       "      <td>AndyRooney</td>\n",
       "      <td>0</td>\n",
       "    </tr>\n",
       "    <tr>\n",
       "      <th>3</th>\n",
       "      <td>c10nh8q</td>\n",
       "      <td>t1_c10nc34</td>\n",
       "      <td>t5_6</td>\n",
       "      <td>t3_djasj</td>\n",
       "      <td>Who made you reddit police? I will submit what...</td>\n",
       "      <td>-2117</td>\n",
       "      <td>-2117</td>\n",
       "      <td>JimmyJamesincorp</td>\n",
       "      <td>0</td>\n",
       "      <td>t3_djasj</td>\n",
       "      <td>I was on my way over here to bitch and moan ab...</td>\n",
       "      <td>1214</td>\n",
       "      <td>1214</td>\n",
       "      <td>SloaneRanger</td>\n",
       "      <td>0</td>\n",
       "    </tr>\n",
       "    <tr>\n",
       "      <th>4</th>\n",
       "      <td>c3nlufk</td>\n",
       "      <td>t1_c3nlcob</td>\n",
       "      <td>t5_2qzb6</td>\n",
       "      <td>t3_p9a1v</td>\n",
       "      <td>We gotta be...i consider my time valuable.</td>\n",
       "      <td>-1962</td>\n",
       "      <td>-1962</td>\n",
       "      <td>iamwoodyharrelson</td>\n",
       "      <td>0</td>\n",
       "      <td>t3_p9a1v</td>\n",
       "      <td>Should change this AMA to AMAAR (Ask Me Anythi...</td>\n",
       "      <td>1405</td>\n",
       "      <td>1405</td>\n",
       "      <td>bersh</td>\n",
       "      <td>0</td>\n",
       "    </tr>\n",
       "    <tr>\n",
       "      <th>...</th>\n",
       "      <td>...</td>\n",
       "      <td>...</td>\n",
       "      <td>...</td>\n",
       "      <td>...</td>\n",
       "      <td>...</td>\n",
       "      <td>...</td>\n",
       "      <td>...</td>\n",
       "      <td>...</td>\n",
       "      <td>...</td>\n",
       "      <td>...</td>\n",
       "      <td>...</td>\n",
       "      <td>...</td>\n",
       "      <td>...</td>\n",
       "      <td>...</td>\n",
       "      <td>...</td>\n",
       "    </tr>\n",
       "    <tr>\n",
       "      <th>1999995</th>\n",
       "      <td>c0fycb3</td>\n",
       "      <td>t1_c0fxzh8</td>\n",
       "      <td>t5_2qh13</td>\n",
       "      <td>t3_a5euo</td>\n",
       "      <td>\"*THIS IS LIKE PRESIDENT OBAMA SAYING HE'S WOR...</td>\n",
       "      <td>-6</td>\n",
       "      <td>-6</td>\n",
       "      <td>scientologist2</td>\n",
       "      <td>0</td>\n",
       "      <td>t3_a5euo</td>\n",
       "      <td>Even the Prime Minister Kevin Rudd is [concern...</td>\n",
       "      <td>77</td>\n",
       "      <td>77</td>\n",
       "      <td>mrpostal</td>\n",
       "      <td>0</td>\n",
       "    </tr>\n",
       "    <tr>\n",
       "      <th>1999996</th>\n",
       "      <td>c65ga5p</td>\n",
       "      <td>t1_c65g7m7</td>\n",
       "      <td>t5_2qh68</td>\n",
       "      <td>t3_zksqa</td>\n",
       "      <td>No. Privilege is bunk. \\n\\nThis is strictly fo...</td>\n",
       "      <td>-6</td>\n",
       "      <td>-6</td>\n",
       "      <td>[deleted]</td>\n",
       "      <td>0</td>\n",
       "      <td>t3_zksqa</td>\n",
       "      <td>So you believe in privilege when it affects yo...</td>\n",
       "      <td>3</td>\n",
       "      <td>3</td>\n",
       "      <td>[deleted]</td>\n",
       "      <td>0</td>\n",
       "    </tr>\n",
       "    <tr>\n",
       "      <th>1999997</th>\n",
       "      <td>c4nmzah</td>\n",
       "      <td>t1_c4nmz26</td>\n",
       "      <td>t5_2qo4s</td>\n",
       "      <td>t3_tl7k0</td>\n",
       "      <td>how original</td>\n",
       "      <td>-6</td>\n",
       "      <td>-6</td>\n",
       "      <td>mcdvda</td>\n",
       "      <td>0</td>\n",
       "      <td>t3_tl7k0</td>\n",
       "      <td>Cue comments about Miami fans leaving</td>\n",
       "      <td>2</td>\n",
       "      <td>2</td>\n",
       "      <td>pepito420</td>\n",
       "      <td>0</td>\n",
       "    </tr>\n",
       "    <tr>\n",
       "      <th>1999998</th>\n",
       "      <td>c1fqczr</td>\n",
       "      <td>t1_c1fq37p</td>\n",
       "      <td>t5_2qh61</td>\n",
       "      <td>t3_fg98s</td>\n",
       "      <td>Don't just go spewing things like this w/o sou...</td>\n",
       "      <td>-6</td>\n",
       "      <td>-6</td>\n",
       "      <td>BloodyFreeze</td>\n",
       "      <td>0</td>\n",
       "      <td>t3_fg98s</td>\n",
       "      <td>The chief torturer of CIA is now Vice Presiden...</td>\n",
       "      <td>67</td>\n",
       "      <td>67</td>\n",
       "      <td>[deleted]</td>\n",
       "      <td>0</td>\n",
       "    </tr>\n",
       "    <tr>\n",
       "      <th>1999999</th>\n",
       "      <td>c08azai</td>\n",
       "      <td>t1_c08awva</td>\n",
       "      <td>t5_2qh61</td>\n",
       "      <td>t3_85h3o</td>\n",
       "      <td>You might as well go watch family guy at that ...</td>\n",
       "      <td>-6</td>\n",
       "      <td>-6</td>\n",
       "      <td>jasksl</td>\n",
       "      <td>0</td>\n",
       "      <td>t3_85h3o</td>\n",
       "      <td>Just imagine it is Stewie.</td>\n",
       "      <td>10</td>\n",
       "      <td>10</td>\n",
       "      <td>[deleted]</td>\n",
       "      <td>0</td>\n",
       "    </tr>\n",
       "  </tbody>\n",
       "</table>\n",
       "<p>2000000 rows × 15 columns</p>\n",
       "</div>"
      ],
      "text/plain": [
       "              id   parent_id subreddit_id    link_id  \\\n",
       "0        c0a2d2p  t1_c0a2cn1     t5_1a8ah   t3_8pr4w   \n",
       "1        c6okok8  t1_c6oaywb     t5_2s8e9  t3_11otij   \n",
       "2        c3nlalf  t1_c3nijr7     t5_2qzb6   t3_p9a1v   \n",
       "3        c10nh8q  t1_c10nc34         t5_6   t3_djasj   \n",
       "4        c3nlufk  t1_c3nlcob     t5_2qzb6   t3_p9a1v   \n",
       "...          ...         ...          ...        ...   \n",
       "1999995  c0fycb3  t1_c0fxzh8     t5_2qh13   t3_a5euo   \n",
       "1999996  c65ga5p  t1_c65g7m7     t5_2qh68   t3_zksqa   \n",
       "1999997  c4nmzah  t1_c4nmz26     t5_2qo4s   t3_tl7k0   \n",
       "1999998  c1fqczr  t1_c1fq37p     t5_2qh61   t3_fg98s   \n",
       "1999999  c08azai  t1_c08awva     t5_2qh61   t3_85h3o   \n",
       "\n",
       "                                                      text  score   ups  \\\n",
       "0        Na, not really. \\n\\nI just hate islam and ever...  -2946 -2946   \n",
       "1                      lol you're some ugly ass white dude  -2724 -2724   \n",
       "2        First of off, its not true, and second off, I ...  -2132 -2132   \n",
       "3        Who made you reddit police? I will submit what...  -2117 -2117   \n",
       "4              We gotta be...i consider my time valuable.   -1962 -1962   \n",
       "...                                                    ...    ...   ...   \n",
       "1999995  \"*THIS IS LIKE PRESIDENT OBAMA SAYING HE'S WOR...     -6    -6   \n",
       "1999996  No. Privilege is bunk. \\n\\nThis is strictly fo...     -6    -6   \n",
       "1999997                                      how original      -6    -6   \n",
       "1999998  Don't just go spewing things like this w/o sou...     -6    -6   \n",
       "1999999  You might as well go watch family guy at that ...     -6    -6   \n",
       "\n",
       "                      author  controversiality parent_link_id  \\\n",
       "0                      b34nz                 0       t3_8pr4w   \n",
       "1        letmetellyouhowitis                 0      t3_11otij   \n",
       "2          iamwoodyharrelson                 0       t3_p9a1v   \n",
       "3           JimmyJamesincorp                 0       t3_djasj   \n",
       "4          iamwoodyharrelson                 0       t3_p9a1v   \n",
       "...                      ...               ...            ...   \n",
       "1999995       scientologist2                 0       t3_a5euo   \n",
       "1999996            [deleted]                 0       t3_zksqa   \n",
       "1999997               mcdvda                 0       t3_tl7k0   \n",
       "1999998         BloodyFreeze                 0       t3_fg98s   \n",
       "1999999               jasksl                 0       t3_85h3o   \n",
       "\n",
       "                                               parent_text  parent_score  \\\n",
       "0        What goes through the heads of you people?  Is...           459   \n",
       "1            This is worth noting.\\n\\nThankfully I don't.             72   \n",
       "2        I swear this is *(allegedly)* a true story.  I...          4028   \n",
       "3        I was on my way over here to bitch and moan ab...          1214   \n",
       "4        Should change this AMA to AMAAR (Ask Me Anythi...          1405   \n",
       "...                                                    ...           ...   \n",
       "1999995  Even the Prime Minister Kevin Rudd is [concern...            77   \n",
       "1999996  So you believe in privilege when it affects yo...             3   \n",
       "1999997              Cue comments about Miami fans leaving             2   \n",
       "1999998  The chief torturer of CIA is now Vice Presiden...            67   \n",
       "1999999                         Just imagine it is Stewie.            10   \n",
       "\n",
       "         parent_ups parent_author  parent_controversiality  \n",
       "0               459     [deleted]                        0  \n",
       "1                72      flowen65                        0  \n",
       "2              4028    AndyRooney                        0  \n",
       "3              1214  SloaneRanger                        0  \n",
       "4              1405         bersh                        0  \n",
       "...             ...           ...                      ...  \n",
       "1999995          77      mrpostal                        0  \n",
       "1999996           3     [deleted]                        0  \n",
       "1999997           2     pepito420                        0  \n",
       "1999998          67     [deleted]                        0  \n",
       "1999999          10     [deleted]                        0  \n",
       "\n",
       "[2000000 rows x 15 columns]"
      ]
     },
     "execution_count": 2,
     "metadata": {},
     "output_type": "execute_result"
    }
   ],
   "source": [
    "df = pd.read_csv('E:/Content Analysis/comments_negative.csv')\n",
    "df"
   ]
  },
  {
   "cell_type": "code",
   "execution_count": 20,
   "metadata": {},
   "outputs": [
    {
     "data": {
      "text/plain": [
       "130757"
      ]
     },
     "execution_count": 20,
     "metadata": {},
     "output_type": "execute_result"
    }
   ],
   "source": [
    "df = df[:500]\n",
    "neg_comment = ' '.join(df['text'])\n",
    "len(neg_comment)"
   ]
  },
  {
   "cell_type": "code",
   "execution_count": 11,
   "metadata": {},
   "outputs": [],
   "source": [
    "nlp = spacy.load('en')\n",
    "def word_tokenize(word_list):\n",
    "    tokenized = []\n",
    "    doc = nlp(word_list)\n",
    "    for token in doc:\n",
    "        if not token.is_punct and len(token.text.strip()) > 0:\n",
    "            tokenized.append(token.text)\n",
    "    return tokenized"
   ]
  },
  {
   "cell_type": "code",
   "execution_count": 22,
   "metadata": {},
   "outputs": [
    {
     "data": {
      "text/plain": [
       "['Na',\n",
       " 'not',\n",
       " 'really',\n",
       " 'I',\n",
       " 'just',\n",
       " 'hate',\n",
       " 'islam',\n",
       " 'and',\n",
       " 'everything',\n",
       " 'it']"
      ]
     },
     "execution_count": 22,
     "metadata": {},
     "output_type": "execute_result"
    }
   ],
   "source": [
    "neg_tokens = word_tokenize(neg_comment)\n",
    "neg_tokens[:10]"
   ]
  },
  {
   "cell_type": "code",
   "execution_count": 23,
   "metadata": {},
   "outputs": [],
   "source": [
    "import nltk"
   ]
  },
  {
   "cell_type": "code",
   "execution_count": 24,
   "metadata": {},
   "outputs": [
    {
     "name": "stdout",
     "output_type": "stream",
     "text": [
      "Displaying 18 of 18 matches:\n",
      "Na not really I just hate islam and everything it stands for I \n",
      "ovement in world hunger slavery abuse hate HIV cancer bla bla bla etc admit it y\n",
      "yone who 's honest gets showered with hate Fuck all you downvoters Keep em comin\n",
      "pple is a good company and PC sucks I hate you I fucked your mother I took an ar\n",
      " them Being an adult is hard Really I hate you on tv you are so annoying visuall\n",
      " shame also i loled You are making me hate reddit Fuck off Being a white male Am\n",
      " It sounds really really stupid and I hate it Like he is an ape who needs to get\n",
      "out there feels such genuine seething hate for me I 'd share your post with my a\n",
      "g faggot Did n't ask Exactly And I 'd hate to be shamed in this internet courtho\n",
      "of their lack of faith a shitstorm of hate and vitriol is slung at them Some of \n",
      "ginals gems like this one Holy shit I hate the reddit patting of the back on a g\n",
      "includes everything Edit Wow a lot of hate on this forum I apologize and I 'm no\n",
      "effective I know that Reddit tends to hate on the TSA so I 'm mainly just questi\n",
      "'t justify spamming Why does everyone hate arrow to the knee jokes They are supp\n",
      "ave the education they got Why do you hate Muslims Do n't you know that your tax\n",
      "misandry/ gt;Are there some women who hate men Of course There ’s always somebod\n",
      " FUCK OFF OK THANKS :D :D :D F lord I hate this show I opened this thread to rec\n",
      "hers are sleepin edit 2 haters gon na hate console lt PC 4 life grow up kiddies \n"
     ]
    }
   ],
   "source": [
    "neg_text = nltk.Text(neg_tokens)\n",
    "neg_index = nltk.text.ConcordanceIndex(neg_text) \n",
    "neg_index.print_concordance('hate')"
   ]
  },
  {
   "cell_type": "code",
   "execution_count": 25,
   "metadata": {},
   "outputs": [
    {
     "name": "stdout",
     "output_type": "stream",
     "text": [
      "just_islam abuse_hiv with_fuck i_you me_reddit i_it seething_for 'd_to\n",
      "of_and i_the of_on to_on everyone_arrow you_muslims who_men i_this\n",
      "na_console\n"
     ]
    }
   ],
   "source": [
    "neg_text.common_contexts(['hate'])"
   ]
  },
  {
   "cell_type": "code",
   "execution_count": 26,
   "metadata": {},
   "outputs": [
    {
     "data": {
      "text/plain": [
       "18"
      ]
     },
     "execution_count": 26,
     "metadata": {},
     "output_type": "execute_result"
    }
   ],
   "source": [
    "neg_text.count('hate')"
   ]
  },
  {
   "cell_type": "code",
   "execution_count": 31,
   "metadata": {},
   "outputs": [
    {
     "data": {
      "image/png": "[encoded data removed]",
      "text/plain": [
       "<Figure size 432x288 with 1 Axes>"
      ]
     },
     "metadata": {
      "needs_background": "light"
     },
     "output_type": "display_data"
    }
   ],
   "source": [
    "sns.reset_orig() #Seaborn messes with this plot, disabling it\n",
    "neg_text.dispersion_plot(['asshole','idiot', 'hate', 'stupid' ,'fuck', 'fool', 'sad'])\n",
    "sns.set() #Re-enabling seaborn"
   ]
  },
  {
   "cell_type": "markdown",
   "metadata": {},
   "source": [
    "## <span style=\"color:red\">*Exercise 2*</span>\n",
    "\n",
    "<span style=\"color:red\">Construct cells immediately below this that filter, stem and lemmatize the tokens in your corpus, and then creates plots (with titles and labels) that map the word frequency distribution, word probability distribution, and at least two conditional probability distributions that help us better understand the social and cultural game underlying the production of your corpus. Create a wordl of words (or normalized words) and add a few vague comments about what mysteries are revealed through it.</span>"
   ]
  },
  {
   "cell_type": "code",
   "execution_count": 33,
   "metadata": {},
   "outputs": [
    {
     "data": {
      "text/plain": [
       "[('the', 734),\n",
       " ('I', 676),\n",
       " ('to', 610),\n",
       " ('a', 562),\n",
       " ('you', 463),\n",
       " ('and', 441),\n",
       " ('of', 368),\n",
       " ('is', 356),\n",
       " ('it', 326),\n",
       " ('that', 302),\n",
       " (\"n't\", 240),\n",
       " (\"'s\", 240),\n",
       " ('in', 219),\n",
       " ('this', 208),\n",
       " ('for', 203),\n",
       " ('do', 169),\n",
       " ('on', 167),\n",
       " ('not', 162),\n",
       " ('are', 159),\n",
       " ('was', 146)]"
      ]
     },
     "execution_count": 33,
     "metadata": {},
     "output_type": "execute_result"
    }
   ],
   "source": [
    "counts_dict = {}\n",
    "for word in neg_tokens:\n",
    "    if word in counts_dict:\n",
    "        counts_dict[word] += 1\n",
    "    else:\n",
    "        counts_dict[word] = 1\n",
    "word_counts = sorted(counts_dict.items(), key=lambda x: x[1], reverse=True)\n",
    "word_counts[:20]"
   ]
  },
  {
   "cell_type": "code",
   "execution_count": 38,
   "metadata": {},
   "outputs": [
    {
     "data": {
      "text/plain": [
       "['the',\n",
       " 'I',\n",
       " 'to',\n",
       " 'a',\n",
       " 'you',\n",
       " 'and',\n",
       " 'of',\n",
       " 'is',\n",
       " 'it',\n",
       " 'that',\n",
       " \"n't\",\n",
       " \"'s\",\n",
       " 'in',\n",
       " 'this',\n",
       " 'for',\n",
       " 'do',\n",
       " 'on',\n",
       " 'not',\n",
       " 'are',\n",
       " 'was',\n",
       " 'me',\n",
       " 'with',\n",
       " 'have',\n",
       " 'my',\n",
       " 'be',\n",
       " 'but',\n",
       " 'like',\n",
       " 'just',\n",
       " 'your']"
      ]
     },
     "execution_count": 38,
     "metadata": {},
     "output_type": "execute_result"
    }
   ],
   "source": [
    "stop_words_freq = []\n",
    "for i, element in enumerate(word_counts):\n",
    "    if i >= 29:\n",
    "        break\n",
    "    else:\n",
    "        stop_words_freq.append(element[0])\n",
    "stop_words_freq"
   ]
  },
  {
   "cell_type": "code",
   "execution_count": 39,
   "metadata": {},
   "outputs": [],
   "source": [
    "def normalize_tokens(word_list, extra_stop=[]):\n",
    "    #We can use a generator here as we just need to iterate over it\n",
    "    normalized = []\n",
    "    if type(word_list) == list and len(word_list) == 1:\n",
    "        word_list = word_list[0]\n",
    "\n",
    "    if type(word_list) == list:\n",
    "        word_list = ' '.join([str(elem) for elem in word_list]) \n",
    "\n",
    "    doc = nlp(word_list.lower())\n",
    "    \n",
    "    # add the property of stop word to words considered as stop words\n",
    "    if len(extra_stop) > 0:\n",
    "        for stopword in extra_stop:\n",
    "            lexeme = nlp.vocab[stopword]\n",
    "            lexeme.is_stop = True\n",
    "\n",
    "    for w in doc:\n",
    "        # if it's not a stop word or punctuation mark, add it to our article\n",
    "        if w.text != '\\n' and not w.is_stop and not w.is_punct and not w.like_num and len(w.text.strip()) > 0:\n",
    "            # we add the lematized version of the word\n",
    "            normalized.append(str(w.lemma_))\n",
    "\n",
    "    return normalized"
   ]
  },
  {
   "cell_type": "code",
   "execution_count": 77,
   "metadata": {},
   "outputs": [
    {
     "data": {
      "text/html": [
       "<div>\n",
       "<style scoped>\n",
       "    .dataframe tbody tr th:only-of-type {\n",
       "        vertical-align: middle;\n",
       "    }\n",
       "\n",
       "    .dataframe tbody tr th {\n",
       "        vertical-align: top;\n",
       "    }\n",
       "\n",
       "    .dataframe thead th {\n",
       "        text-align: right;\n",
       "    }\n",
       "</style>\n",
       "<table border=\"1\" class=\"dataframe\">\n",
       "  <thead>\n",
       "    <tr style=\"text-align: right;\">\n",
       "      <th></th>\n",
       "      <th>id</th>\n",
       "      <th>parent_id</th>\n",
       "      <th>subreddit_id</th>\n",
       "      <th>link_id</th>\n",
       "      <th>text</th>\n",
       "      <th>score</th>\n",
       "      <th>ups</th>\n",
       "      <th>author</th>\n",
       "      <th>controversiality</th>\n",
       "      <th>parent_link_id</th>\n",
       "      <th>parent_text</th>\n",
       "      <th>parent_score</th>\n",
       "      <th>parent_ups</th>\n",
       "      <th>parent_author</th>\n",
       "      <th>parent_controversiality</th>\n",
       "      <th>tokenized_text</th>\n",
       "      <th>normalized_tokens</th>\n",
       "      <th>normalized_tokens_count</th>\n",
       "      <th>normalized_tokens_POS</th>\n",
       "    </tr>\n",
       "  </thead>\n",
       "  <tbody>\n",
       "    <tr>\n",
       "      <th>0</th>\n",
       "      <td>c0a2d2p</td>\n",
       "      <td>t1_c0a2cn1</td>\n",
       "      <td>t5_1a8ah</td>\n",
       "      <td>t3_8pr4w</td>\n",
       "      <td>Na, not really. \\n\\nI just hate islam and ever...</td>\n",
       "      <td>-2946</td>\n",
       "      <td>-2946</td>\n",
       "      <td>b34nz</td>\n",
       "      <td>0</td>\n",
       "      <td>t3_8pr4w</td>\n",
       "      <td>What goes through the heads of you people?  Is...</td>\n",
       "      <td>459</td>\n",
       "      <td>459</td>\n",
       "      <td>[deleted]</td>\n",
       "      <td>0</td>\n",
       "      <td>[Na, not, really, I, just, hate, islam, and, e...</td>\n",
       "      <td>[na, hate, islam, stand, want, share, street, ...</td>\n",
       "      <td>90</td>\n",
       "      <td>[(na, IN), (,, ,), (not, RB), (really, RB), (....</td>\n",
       "    </tr>\n",
       "    <tr>\n",
       "      <th>1</th>\n",
       "      <td>c6okok8</td>\n",
       "      <td>t1_c6oaywb</td>\n",
       "      <td>t5_2s8e9</td>\n",
       "      <td>t3_11otij</td>\n",
       "      <td>lol you're some ugly ass white dude</td>\n",
       "      <td>-2724</td>\n",
       "      <td>-2724</td>\n",
       "      <td>letmetellyouhowitis</td>\n",
       "      <td>0</td>\n",
       "      <td>t3_11otij</td>\n",
       "      <td>This is worth noting.\\n\\nThankfully I don't.</td>\n",
       "      <td>72</td>\n",
       "      <td>72</td>\n",
       "      <td>flowen65</td>\n",
       "      <td>0</td>\n",
       "      <td>[lol, you, 're, some, ugly, ass, white, dude]</td>\n",
       "      <td>[lol, ugly, ass, white, dude]</td>\n",
       "      <td>5</td>\n",
       "      <td>[(lol, UH), (you, PRP), ('re, VBP), (some, DT)...</td>\n",
       "    </tr>\n",
       "    <tr>\n",
       "      <th>2</th>\n",
       "      <td>c3nlalf</td>\n",
       "      <td>t1_c3nijr7</td>\n",
       "      <td>t5_2qzb6</td>\n",
       "      <td>t3_p9a1v</td>\n",
       "      <td>First of off, its not true, and second off, I ...</td>\n",
       "      <td>-2132</td>\n",
       "      <td>-2132</td>\n",
       "      <td>iamwoodyharrelson</td>\n",
       "      <td>0</td>\n",
       "      <td>t3_p9a1v</td>\n",
       "      <td>I swear this is *(allegedly)* a true story.  I...</td>\n",
       "      <td>4028</td>\n",
       "      <td>4028</td>\n",
       "      <td>AndyRooney</td>\n",
       "      <td>0</td>\n",
       "      <td>[First, of, off, its, not, true, and, second, ...</td>\n",
       "      <td>[true, second, want, answer, question, let, fo...</td>\n",
       "      <td>9</td>\n",
       "      <td>[(first, RB), (of, IN), (off, RB), (,, ,), (it...</td>\n",
       "    </tr>\n",
       "    <tr>\n",
       "      <th>3</th>\n",
       "      <td>c10nh8q</td>\n",
       "      <td>t1_c10nc34</td>\n",
       "      <td>t5_6</td>\n",
       "      <td>t3_djasj</td>\n",
       "      <td>Who made you reddit police? I will submit what...</td>\n",
       "      <td>-2117</td>\n",
       "      <td>-2117</td>\n",
       "      <td>JimmyJamesincorp</td>\n",
       "      <td>0</td>\n",
       "      <td>t3_djasj</td>\n",
       "      <td>I was on my way over here to bitch and moan ab...</td>\n",
       "      <td>1214</td>\n",
       "      <td>1214</td>\n",
       "      <td>SloaneRanger</td>\n",
       "      <td>0</td>\n",
       "      <td>[Who, made, you, reddit, police, I, will, subm...</td>\n",
       "      <td>[reddit, police, submit, want]</td>\n",
       "      <td>4</td>\n",
       "      <td>[(who, WP), (made, VBD), (you, PRP), (reddit, ...</td>\n",
       "    </tr>\n",
       "    <tr>\n",
       "      <th>4</th>\n",
       "      <td>c3nlufk</td>\n",
       "      <td>t1_c3nlcob</td>\n",
       "      <td>t5_2qzb6</td>\n",
       "      <td>t3_p9a1v</td>\n",
       "      <td>We gotta be...i consider my time valuable.</td>\n",
       "      <td>-1962</td>\n",
       "      <td>-1962</td>\n",
       "      <td>iamwoodyharrelson</td>\n",
       "      <td>0</td>\n",
       "      <td>t3_p9a1v</td>\n",
       "      <td>Should change this AMA to AMAAR (Ask Me Anythi...</td>\n",
       "      <td>1405</td>\n",
       "      <td>1405</td>\n",
       "      <td>bersh</td>\n",
       "      <td>0</td>\n",
       "      <td>[We, got, ta, be, i, consider, my, time, valua...</td>\n",
       "      <td>[get, ta, consider, time, valuable]</td>\n",
       "      <td>5</td>\n",
       "      <td>[(we, PRP), (got, VBD), (ta, TO), (be, VB), (....</td>\n",
       "    </tr>\n",
       "    <tr>\n",
       "      <th>...</th>\n",
       "      <td>...</td>\n",
       "      <td>...</td>\n",
       "      <td>...</td>\n",
       "      <td>...</td>\n",
       "      <td>...</td>\n",
       "      <td>...</td>\n",
       "      <td>...</td>\n",
       "      <td>...</td>\n",
       "      <td>...</td>\n",
       "      <td>...</td>\n",
       "      <td>...</td>\n",
       "      <td>...</td>\n",
       "      <td>...</td>\n",
       "      <td>...</td>\n",
       "      <td>...</td>\n",
       "      <td>...</td>\n",
       "      <td>...</td>\n",
       "      <td>...</td>\n",
       "      <td>...</td>\n",
       "    </tr>\n",
       "    <tr>\n",
       "      <th>495</th>\n",
       "      <td>c4jxxm7</td>\n",
       "      <td>t1_c4jwyr3</td>\n",
       "      <td>t5_2qh03</td>\n",
       "      <td>t3_t5zt1</td>\n",
       "      <td>I  used to show up again after any math/challe...</td>\n",
       "      <td>-305</td>\n",
       "      <td>-305</td>\n",
       "      <td>arrowstotheknee</td>\n",
       "      <td>0</td>\n",
       "      <td>t3_t5zt1</td>\n",
       "      <td>It shows up again after any match/challenge.</td>\n",
       "      <td>62</td>\n",
       "      <td>62</td>\n",
       "      <td>mywowtoonnname</td>\n",
       "      <td>0</td>\n",
       "      <td>[I, used, to, show, up, again, after, any, mat...</td>\n",
       "      <td>[math, challenge, take, arrow, knee]</td>\n",
       "      <td>5</td>\n",
       "      <td>[(i, PRP), ( , _SP), (used, VBD), (to, TO), (s...</td>\n",
       "    </tr>\n",
       "    <tr>\n",
       "      <th>496</th>\n",
       "      <td>c6r9okg</td>\n",
       "      <td>t1_c6r4npw</td>\n",
       "      <td>t5_2sokd</td>\n",
       "      <td>t3_1203f7</td>\n",
       "      <td>Fuck, you're retarded.\\n\\nDon't you learn this...</td>\n",
       "      <td>-305</td>\n",
       "      <td>-305</td>\n",
       "      <td>RationalistTidder</td>\n",
       "      <td>0</td>\n",
       "      <td>t3_1203f7</td>\n",
       "      <td>Jesus christ my mind is blown fuck.</td>\n",
       "      <td>1076</td>\n",
       "      <td>1076</td>\n",
       "      <td>Large_Pimpin</td>\n",
       "      <td>0</td>\n",
       "      <td>[Fuck, you, 're, retarded, Do, n't, you, learn...</td>\n",
       "      <td>[fuck, retard, learn, shit, fuck, 3rd, grade]</td>\n",
       "      <td>7</td>\n",
       "      <td>[(fuck, NNP), (,, ,), (you, PRP), ('re, VBP), ...</td>\n",
       "    </tr>\n",
       "    <tr>\n",
       "      <th>497</th>\n",
       "      <td>cnlczbo</td>\n",
       "      <td>t1_cnl8rno</td>\n",
       "      <td>t5_2qh03</td>\n",
       "      <td>t3_2s1a23</td>\n",
       "      <td>16 seater? pft, PC will have something that ho...</td>\n",
       "      <td>-304</td>\n",
       "      <td>-304</td>\n",
       "      <td>iffy9096</td>\n",
       "      <td>0</td>\n",
       "      <td>t3_2s1a23</td>\n",
       "      <td>Get 16 seater FIB plane and turn everyone on t...</td>\n",
       "      <td>407</td>\n",
       "      <td>407</td>\n",
       "      <td>NonKarmaAccount</td>\n",
       "      <td>0</td>\n",
       "      <td>[16, seater, pft, PC, will, have, something, t...</td>\n",
       "      <td>[seater, pft, pc, hold, +, player, edit, conso...</td>\n",
       "      <td>38</td>\n",
       "      <td>[(16, CD), (seater, NNP), (?, .), (pft, NNS), ...</td>\n",
       "    </tr>\n",
       "    <tr>\n",
       "      <th>498</th>\n",
       "      <td>c4nlkrx</td>\n",
       "      <td>t1_c4nlf27</td>\n",
       "      <td>t5_2qore</td>\n",
       "      <td>t3_tlcrh</td>\n",
       "      <td>There is already a bot that does this, karma w...</td>\n",
       "      <td>-304</td>\n",
       "      <td>-304</td>\n",
       "      <td>TRiPgod</td>\n",
       "      <td>0</td>\n",
       "      <td>t3_tlcrh</td>\n",
       "      <td>If people have problems accessing twitter he s...</td>\n",
       "      <td>48</td>\n",
       "      <td>48</td>\n",
       "      <td>KaneHart</td>\n",
       "      <td>0</td>\n",
       "      <td>[There, is, already, a, bot, that, does, this,...</td>\n",
       "      <td>[bot, karma, whore]</td>\n",
       "      <td>3</td>\n",
       "      <td>[(there, EX), (is, VBZ), (already, RB), (a, DT...</td>\n",
       "    </tr>\n",
       "    <tr>\n",
       "      <th>499</th>\n",
       "      <td>cnyr86i</td>\n",
       "      <td>t1_cnyr55s</td>\n",
       "      <td>t5_2qh33</td>\n",
       "      <td>t3_2tfw31</td>\n",
       "      <td>You sound like a strong, independent legbeard.</td>\n",
       "      <td>-304</td>\n",
       "      <td>-304</td>\n",
       "      <td>Evil_white_oppressor</td>\n",
       "      <td>0</td>\n",
       "      <td>t3_2tfw31</td>\n",
       "      <td>OP is just sad because no one wants his dick\\n...</td>\n",
       "      <td>163</td>\n",
       "      <td>163</td>\n",
       "      <td>erielavdoor</td>\n",
       "      <td>0</td>\n",
       "      <td>[You, sound, like, a, strong, independent, leg...</td>\n",
       "      <td>[sound, strong, independent, legbeard]</td>\n",
       "      <td>4</td>\n",
       "      <td>[(you, PRP), (sound, VBP), (like, IN), (a, DT)...</td>\n",
       "    </tr>\n",
       "  </tbody>\n",
       "</table>\n",
       "<p>500 rows × 19 columns</p>\n",
       "</div>"
      ],
      "text/plain": [
       "          id   parent_id subreddit_id    link_id  \\\n",
       "0    c0a2d2p  t1_c0a2cn1     t5_1a8ah   t3_8pr4w   \n",
       "1    c6okok8  t1_c6oaywb     t5_2s8e9  t3_11otij   \n",
       "2    c3nlalf  t1_c3nijr7     t5_2qzb6   t3_p9a1v   \n",
       "3    c10nh8q  t1_c10nc34         t5_6   t3_djasj   \n",
       "4    c3nlufk  t1_c3nlcob     t5_2qzb6   t3_p9a1v   \n",
       "..       ...         ...          ...        ...   \n",
       "495  c4jxxm7  t1_c4jwyr3     t5_2qh03   t3_t5zt1   \n",
       "496  c6r9okg  t1_c6r4npw     t5_2sokd  t3_1203f7   \n",
       "497  cnlczbo  t1_cnl8rno     t5_2qh03  t3_2s1a23   \n",
       "498  c4nlkrx  t1_c4nlf27     t5_2qore   t3_tlcrh   \n",
       "499  cnyr86i  t1_cnyr55s     t5_2qh33  t3_2tfw31   \n",
       "\n",
       "                                                  text  score   ups  \\\n",
       "0    Na, not really. \\n\\nI just hate islam and ever...  -2946 -2946   \n",
       "1                  lol you're some ugly ass white dude  -2724 -2724   \n",
       "2    First of off, its not true, and second off, I ...  -2132 -2132   \n",
       "3    Who made you reddit police? I will submit what...  -2117 -2117   \n",
       "4          We gotta be...i consider my time valuable.   -1962 -1962   \n",
       "..                                                 ...    ...   ...   \n",
       "495  I  used to show up again after any math/challe...   -305  -305   \n",
       "496  Fuck, you're retarded.\\n\\nDon't you learn this...   -305  -305   \n",
       "497  16 seater? pft, PC will have something that ho...   -304  -304   \n",
       "498  There is already a bot that does this, karma w...   -304  -304   \n",
       "499   You sound like a strong, independent legbeard.     -304  -304   \n",
       "\n",
       "                   author  controversiality parent_link_id  \\\n",
       "0                   b34nz                 0       t3_8pr4w   \n",
       "1     letmetellyouhowitis                 0      t3_11otij   \n",
       "2       iamwoodyharrelson                 0       t3_p9a1v   \n",
       "3        JimmyJamesincorp                 0       t3_djasj   \n",
       "4       iamwoodyharrelson                 0       t3_p9a1v   \n",
       "..                    ...               ...            ...   \n",
       "495       arrowstotheknee                 0       t3_t5zt1   \n",
       "496     RationalistTidder                 0      t3_1203f7   \n",
       "497              iffy9096                 0      t3_2s1a23   \n",
       "498               TRiPgod                 0       t3_tlcrh   \n",
       "499  Evil_white_oppressor                 0      t3_2tfw31   \n",
       "\n",
       "                                           parent_text  parent_score  \\\n",
       "0    What goes through the heads of you people?  Is...           459   \n",
       "1        This is worth noting.\\n\\nThankfully I don't.             72   \n",
       "2    I swear this is *(allegedly)* a true story.  I...          4028   \n",
       "3    I was on my way over here to bitch and moan ab...          1214   \n",
       "4    Should change this AMA to AMAAR (Ask Me Anythi...          1405   \n",
       "..                                                 ...           ...   \n",
       "495       It shows up again after any match/challenge.            62   \n",
       "496                Jesus christ my mind is blown fuck.          1076   \n",
       "497  Get 16 seater FIB plane and turn everyone on t...           407   \n",
       "498  If people have problems accessing twitter he s...            48   \n",
       "499  OP is just sad because no one wants his dick\\n...           163   \n",
       "\n",
       "     parent_ups    parent_author  parent_controversiality  \\\n",
       "0           459        [deleted]                        0   \n",
       "1            72         flowen65                        0   \n",
       "2          4028       AndyRooney                        0   \n",
       "3          1214     SloaneRanger                        0   \n",
       "4          1405            bersh                        0   \n",
       "..          ...              ...                      ...   \n",
       "495          62   mywowtoonnname                        0   \n",
       "496        1076     Large_Pimpin                        0   \n",
       "497         407  NonKarmaAccount                        0   \n",
       "498          48         KaneHart                        0   \n",
       "499         163      erielavdoor                        0   \n",
       "\n",
       "                                        tokenized_text  \\\n",
       "0    [Na, not, really, I, just, hate, islam, and, e...   \n",
       "1        [lol, you, 're, some, ugly, ass, white, dude]   \n",
       "2    [First, of, off, its, not, true, and, second, ...   \n",
       "3    [Who, made, you, reddit, police, I, will, subm...   \n",
       "4    [We, got, ta, be, i, consider, my, time, valua...   \n",
       "..                                                 ...   \n",
       "495  [I, used, to, show, up, again, after, any, mat...   \n",
       "496  [Fuck, you, 're, retarded, Do, n't, you, learn...   \n",
       "497  [16, seater, pft, PC, will, have, something, t...   \n",
       "498  [There, is, already, a, bot, that, does, this,...   \n",
       "499  [You, sound, like, a, strong, independent, leg...   \n",
       "\n",
       "                                     normalized_tokens  \\\n",
       "0    [na, hate, islam, stand, want, share, street, ...   \n",
       "1                        [lol, ugly, ass, white, dude]   \n",
       "2    [true, second, want, answer, question, let, fo...   \n",
       "3                       [reddit, police, submit, want]   \n",
       "4                  [get, ta, consider, time, valuable]   \n",
       "..                                                 ...   \n",
       "495               [math, challenge, take, arrow, knee]   \n",
       "496      [fuck, retard, learn, shit, fuck, 3rd, grade]   \n",
       "497  [seater, pft, pc, hold, +, player, edit, conso...   \n",
       "498                                [bot, karma, whore]   \n",
       "499             [sound, strong, independent, legbeard]   \n",
       "\n",
       "     normalized_tokens_count  \\\n",
       "0                         90   \n",
       "1                          5   \n",
       "2                          9   \n",
       "3                          4   \n",
       "4                          5   \n",
       "..                       ...   \n",
       "495                        5   \n",
       "496                        7   \n",
       "497                       38   \n",
       "498                        3   \n",
       "499                        4   \n",
       "\n",
       "                                 normalized_tokens_POS  \n",
       "0    [(na, IN), (,, ,), (not, RB), (really, RB), (....  \n",
       "1    [(lol, UH), (you, PRP), ('re, VBP), (some, DT)...  \n",
       "2    [(first, RB), (of, IN), (off, RB), (,, ,), (it...  \n",
       "3    [(who, WP), (made, VBD), (you, PRP), (reddit, ...  \n",
       "4    [(we, PRP), (got, VBD), (ta, TO), (be, VB), (....  \n",
       "..                                                 ...  \n",
       "495  [(i, PRP), ( , _SP), (used, VBD), (to, TO), (s...  \n",
       "496  [(fuck, NNP), (,, ,), (you, PRP), ('re, VBP), ...  \n",
       "497  [(16, CD), (seater, NNP), (?, .), (pft, NNS), ...  \n",
       "498  [(there, EX), (is, VBZ), (already, RB), (a, DT...  \n",
       "499  [(you, PRP), (sound, VBP), (like, IN), (a, DT)...  \n",
       "\n",
       "[500 rows x 19 columns]"
      ]
     },
     "execution_count": 77,
     "metadata": {},
     "output_type": "execute_result"
    }
   ],
   "source": [
    "df['tokenized_text'] = df['text'].apply(lambda x: word_tokenize(x))\n",
    "df['normalized_tokens'] = df['tokenized_text'].apply(lambda x: normalize_tokens(x, stop_words_freq))\n",
    "df['normalized_tokens_count'] = df['normalized_tokens'].apply(lambda x: len(x))\n",
    "\n",
    "df"
   ]
  },
  {
   "cell_type": "code",
   "execution_count": 78,
   "metadata": {},
   "outputs": [
    {
     "name": "stdout",
     "output_type": "stream",
     "text": [
      "10077\n"
     ]
    }
   ],
   "source": [
    "cfdist = nltk.ConditionalFreqDist(((len(w), w) for w in df['normalized_tokens'].sum()))\n",
    "print(cfdist.N())"
   ]
  },
  {
   "cell_type": "code",
   "execution_count": 79,
   "metadata": {},
   "outputs": [
    {
     "data": {
      "image/png": "[encoded data removed]",
      "text/plain": [
       "<Figure size 864x720 with 1 Axes>"
      ]
     },
     "metadata": {},
     "output_type": "display_data"
    },
    {
     "data": {
      "text/plain": [
       "<matplotlib.axes._subplots.AxesSubplot at 0x2ef366e1c10>"
      ]
     },
     "execution_count": 79,
     "metadata": {},
     "output_type": "execute_result"
    }
   ],
   "source": [
    "plt.figure(figsize=(12, 10))\n",
    "cfdist[3].plot()"
   ]
  },
  {
   "cell_type": "code",
   "execution_count": 80,
   "metadata": {},
   "outputs": [
    {
     "name": "stdout",
     "output_type": "stream",
     "text": [
      "think\n",
      "0.047435897435897434\n"
     ]
    }
   ],
   "source": [
    "cpdist = nltk.ConditionalProbDist(cfdist, nltk.ELEProbDist)\n",
    "\n",
    "print(cpdist[5].max())\n",
    "\n",
    "print(cpdist[5].prob(cpdist[5].max()))"
   ]
  },
  {
   "cell_type": "code",
   "execution_count": 81,
   "metadata": {},
   "outputs": [
    {
     "name": "stdout",
     "output_type": "stream",
     "text": [
      "downvote\n",
      "0.10375146541617819\n"
     ]
    }
   ],
   "source": [
    "print(cpdist[8].max())\n",
    "\n",
    "print(cpdist[8].prob(cpdist[8].max()))"
   ]
  },
  {
   "cell_type": "code",
   "execution_count": 82,
   "metadata": {},
   "outputs": [
    {
     "data": {
      "image/png": "[encoded data removed]",
      "text/plain": [
       "<Figure size 432x288 with 1 Axes>"
      ]
     },
     "metadata": {},
     "output_type": "display_data"
    }
   ],
   "source": [
    "cp_dict = {}\n",
    "for i in cfdist[3]:\n",
    "    cp_dict[i] = cpdist[3].prob(i)\n",
    "cp_list = sorted(cp_dict.items(), key=lambda x: x[1], reverse=True)\n",
    "x, y = zip(*cp_list)\n",
    "\n",
    "plt.plot(x, y)\n",
    "plt.show()"
   ]
  },
  {
   "cell_type": "code",
   "execution_count": 83,
   "metadata": {},
   "outputs": [],
   "source": [
    "def spacy_pos(word_list):\n",
    "    tags = []\n",
    "    doc = nlp(word_list.lower())\n",
    "    for w in doc:\n",
    "        tags.append((w.text, w.tag_))\n",
    "    return tags\n",
    "df['normalized_tokens_POS'] = [spacy_pos(t) for t in df['text']]"
   ]
  },
  {
   "cell_type": "code",
   "execution_count": 96,
   "metadata": {},
   "outputs": [
    {
     "data": {
      "text/plain": [
       "[('with', FreqDist({'IN': 138})),\n",
       " ('muslims', FreqDist({'NNPS': 2})),\n",
       " ('they', FreqDist({'PRP': 105})),\n",
       " ('are', FreqDist({'VBP': 170})),\n",
       " ('beneath', FreqDist({'IN': 1})),\n",
       " ('me', FreqDist({'PRP': 144})),\n",
       " ('deserve', FreqDist({'VB': 4, 'VBP': 1})),\n",
       " ('inhabit', FreqDist({'VB': 1})),\n",
       " ('country', FreqDist({'NN': 8})),\n",
       " ('am', FreqDist({'VBP': 39}))]"
      ]
     },
     "execution_count": 96,
     "metadata": {},
     "output_type": "execute_result"
    }
   ],
   "source": [
    "import re\n",
    "cfdist_WordtoPOS = nltk.ConditionalFreqDist(df['normalized_tokens_POS'].sum())\n",
    "list(cfdist_WordtoPOS.items())[30:40]"
   ]
  },
  {
   "cell_type": "code",
   "execution_count": 97,
   "metadata": {},
   "outputs": [
    {
     "data": {
      "text/plain": [
       "FreqDist({'funny': 36, 'good': 36, 'stupid': 29, 'other': 24, 'fucking': 24, 'bad': 23, 'real': 22, 'many': 19, 'right': 19, 'own': 18, ...})"
      ]
     },
     "execution_count": 97,
     "metadata": {},
     "output_type": "execute_result"
    }
   ],
   "source": [
    "cfdist_POStoWord = nltk.ConditionalFreqDist((p, w) for w, p in df['normalized_tokens_POS'].sum())\n",
    "cfdist_POStoWord['JJ']"
   ]
  },
  {
   "cell_type": "code",
   "execution_count": 98,
   "metadata": {},
   "outputs": [
    {
     "data": {
      "image/png": "[encoded data removed]",
      "text/plain": [
       "<Figure size 432x288 with 1 Axes>"
      ]
     },
     "metadata": {},
     "output_type": "display_data"
    },
    {
     "data": {
      "text/plain": [
       "<matplotlib.axes._subplots.AxesSubplot at 0x2ef34394100>"
      ]
     },
     "execution_count": 98,
     "metadata": {},
     "output_type": "execute_result"
    }
   ],
   "source": [
    "cfdist_POStoWord['VB'].plot()"
   ]
  },
  {
   "cell_type": "code",
   "execution_count": 102,
   "metadata": {},
   "outputs": [
    {
     "data": {
      "image/png": "[encoded data removed]",
      "text/plain": [
       "<Figure size 432x288 with 1 Axes>"
      ]
     },
     "metadata": {},
     "output_type": "display_data"
    }
   ],
   "source": [
    "cpdist_POStoWord = nltk.ConditionalProbDist(cfdist_POStoWord, nltk.ELEProbDist)\n",
    "cp_dict_POS = {}\n",
    "for i in cfdist_POStoWord['NN']:\n",
    "    cp_dict_POS[i] = cpdist_POStoWord['NN'].prob(i)\n",
    "cp_list_POS = sorted(cp_dict_POS.items(), key=lambda x: x[1], reverse=True)\n",
    "x1, y1 = zip(*cp_list_POS)\n",
    "\n",
    "plt.plot(x1, y1)\n",
    "plt.show()"
   ]
  },
  {
   "cell_type": "code",
   "execution_count": 104,
   "metadata": {},
   "outputs": [
    {
     "data": {
      "text/plain": [
       "(-0.5, 499.5, 499.5, -0.5)"
      ]
     },
     "execution_count": 104,
     "metadata": {},
     "output_type": "execute_result"
    },
    {
     "data": {
      "image/png": "[encoded data removed]",
      "text/plain": [
       "<Figure size 864x720 with 1 Axes>"
      ]
     },
     "metadata": {},
     "output_type": "display_data"
    }
   ],
   "source": [
    "plt.figure(figsize=(12, 10))\n",
    "wc = wordcloud.WordCloud(background_color=\"white\", max_words=500, width= 1000, height = 1000, mode ='RGBA', scale=.5).generate(' '.join(df['normalized_tokens'].sum()))\n",
    "plt.imshow(wc)\n",
    "plt.axis(\"off\")\n",
    "#plt.savefig(\"neg_word_cloud.pdf\", format = 'pdf')"
   ]
  },
  {
   "cell_type": "markdown",
   "metadata": {},
   "source": [
    "According to the above analyses, I find that words like <i>think</i>, <i>know</i>, <i>downvote</i>, <i>want</i>, etc. are more frequent than others, which, as far as I am concerned, is due to the fact that when people use these words, they are likely to express their opinions and share their information with others, which can elicit negative responses. In brief, comments in reddit which express ideas have a higher possibility of getting a lot of downvotes. "
   ]
  },
  {
   "cell_type": "markdown",
   "metadata": {},
   "source": [
    "## <span style=\"color:red\">*Your turn*</span>\n",
    "\n",
    "<span style=\"color:red\">In the cells immediately following, perform POS tagging on a meaningful (but modest) subset of a corpus associated with your final project. Examine the list of words associated with at least three different parts of speech. Consider conditional associations (e.g., adjectives associated with nouns or adverbs with verbs of interest). What do these distributions suggest about your corpus?"
   ]
  },
  {
   "cell_type": "code",
   "execution_count": 107,
   "metadata": {},
   "outputs": [],
   "source": [
    "def sent_tokenize(word_list):\n",
    "    doc = nlp(word_list)\n",
    "    sentences = [sent.string.strip() for sent in doc.sents]\n",
    "    return sentences"
   ]
  },
  {
   "cell_type": "code",
   "execution_count": 108,
   "metadata": {},
   "outputs": [],
   "source": [
    "df['sentences'] = df['text'].apply(lambda x: [word_tokenize(s) for s in sent_tokenize(x)])"
   ]
  },
  {
   "cell_type": "code",
   "execution_count": 110,
   "metadata": {},
   "outputs": [],
   "source": [
    "def tag_sents_pos(sentences):\n",
    "    new_sents = []\n",
    "    for sentence in sentences:\n",
    "        new_sent = ' '.join(sentence)\n",
    "        new_sents.append(new_sent)\n",
    "    final_string = ' '.join(new_sents)\n",
    "    doc = nlp(final_string)\n",
    "    \n",
    "    pos_sents = []\n",
    "    for sent in doc.sents:\n",
    "        pos_sent = []\n",
    "        for token in sent:\n",
    "            pos_sent.append((token.text, token.tag_))\n",
    "        pos_sents.append(pos_sent)\n",
    "    \n",
    "    return pos_sents"
   ]
  },
  {
   "cell_type": "code",
   "execution_count": 111,
   "metadata": {},
   "outputs": [
    {
     "data": {
      "text/plain": [
       "0      [[(Na, RB), (not, RB), (really, RB), (I, PRP),...\n",
       "1      [[(lol, UH), (you, PRP), ('re, VBP), (some, DT...\n",
       "2      [[(First, RB), (of, IN), (off, RB), (its, PRP$...\n",
       "3      [[(Who, WP), (made, VBD), (you, PRP), (reddit,...\n",
       "4      [[(We, PRP), (got, VBD), (ta, TO), (be, VB)], ...\n",
       "                             ...                        \n",
       "495    [[(I, PRP), (used, VBD), (to, TO), (show, VB),...\n",
       "496    [[(Fuck, UH)], [(you, PRP), ('re, VBP), (retar...\n",
       "497    [[(16, CD), (seater, NNP), (pft, NNP), (PC, NN...\n",
       "498    [[(There, EX), (is, VBZ), (already, RB), (a, D...\n",
       "499    [[(You, PRP), (sound, VBP), (like, IN), (a, DT...\n",
       "Name: POS_sents, Length: 500, dtype: object"
      ]
     },
     "execution_count": 111,
     "metadata": {},
     "output_type": "execute_result"
    }
   ],
   "source": [
    "df['POS_sents'] = df['sentences'].apply(lambda x: tag_sents_pos(x))\n",
    "df['POS_sents']"
   ]
  },
  {
   "cell_type": "code",
   "execution_count": 113,
   "metadata": {},
   "outputs": [
    {
     "data": {
      "text/plain": [
       "[('comment', 43),\n",
       " ('time', 40),\n",
       " ('way', 34),\n",
       " ('shit', 34),\n",
       " ('person', 31),\n",
       " ('life', 30),\n",
       " ('thing', 28),\n",
       " ('someone', 28),\n",
       " ('something', 26),\n",
       " ('post', 26),\n",
       " ('everyone', 25),\n",
       " ('man', 25),\n",
       " ('internet', 22),\n",
       " ('joke', 22),\n",
       " ('lot', 22),\n",
       " ('one', 21),\n",
       " ('nothing', 21),\n",
       " ('fuck', 21),\n",
       " ('reddit', 21)]"
      ]
     },
     "execution_count": 113,
     "metadata": {},
     "output_type": "execute_result"
    }
   ],
   "source": [
    "countTarget = 'NN'\n",
    "targetCounts = {}\n",
    "for entry in df['POS_sents']:\n",
    "    for sentence in entry:\n",
    "        for ent, kind in sentence:\n",
    "            if kind != countTarget:\n",
    "                continue\n",
    "            elif ent in targetCounts:\n",
    "                targetCounts[ent] += 1\n",
    "            else:\n",
    "                targetCounts[ent] = 1\n",
    "sortedTargets = sorted(targetCounts.items(), key = lambda x: x[1], reverse = True)\n",
    "sortedTargets[1:20]"
   ]
  },
  {
   "cell_type": "code",
   "execution_count": 114,
   "metadata": {},
   "outputs": [
    {
     "name": "stdout",
     "output_type": "stream",
     "text": [
      "{'good', 'real'}\n"
     ]
    }
   ],
   "source": [
    "NTarget = 'JJ'\n",
    "Word = 'life'\n",
    "NResults = set()\n",
    "for entry in df['POS_sents']:\n",
    "    for sentence in entry:\n",
    "        for (ent1, kind1),(ent2,kind2) in zip(sentence[:-1], sentence[1:]):\n",
    "            if (kind1,ent2.lower())==(NTarget,Word):\n",
    "                NResults.add(ent1)\n",
    "            else:\n",
    "                continue\n",
    "\n",
    "print(NResults)  "
   ]
  },
  {
   "cell_type": "markdown",
   "metadata": {},
   "source": [
    "The result is actually very interesting considering that this corpus is about negative comments (having many downvotes) on Reddit, but when talking about \"life\" in those comments, the associated adjectives are quite positive, like \"good\" and \"real\", which, to my surprise, may reflect Internet user's rejections of positive sides of the world in some cases."
   ]
  },
  {
   "cell_type": "markdown",
   "metadata": {},
   "source": [
    "## <span style=\"color:red\">*Exercise 3*</span>\n",
    "\n",
    "<span style=\"color:red\">Construct cells immediately below this that identify statistically significant bigrams, trigrams, quadgrams, higher-order *n*grams and skipgrams. Explore whether these collocations are idiomatic and so irreducible to the semantic sum of their component words. You can do this by examination of conditional frequencies (e.g., what else is 'united' besides the 'United States'). If these phrases are idiomatic, what do they suggest about the culture of the world producing them?\n",
    "\n",
    "<span style=\"color:red\">**Stretch**: In Manning and Schütze's textbook, there Section 5.3.2 explores how to use the *t*-test to find words whose co-occurance patterns best distinguish two words. Implement that and use it to explore phrases in your corpus. For instance, you could tell what words come after \"America\" much more often than after \"Iraq\"?</span> "
   ]
  },
  {
   "cell_type": "code",
   "execution_count": 115,
   "metadata": {},
   "outputs": [
    {
     "name": "stdout",
     "output_type": "stream",
     "text": [
      "There are 10077 bigrams in the finder\n"
     ]
    }
   ],
   "source": [
    "negBigrams = nltk.collocations.BigramCollocationFinder.from_words(df['normalized_tokens'].sum())\n",
    "print(\"There are {} bigrams in the finder\".format(negBigrams.N))"
   ]
  },
  {
   "cell_type": "code",
   "execution_count": 116,
   "metadata": {},
   "outputs": [
    {
     "data": {
      "text/plain": [
       "[(('m', 'sorry'), 2.90979458172075),\n",
       " (('m', 'go'), 2.6583341568394525),\n",
       " (('arrow', 'knee'), 2.6430507610936997),\n",
       " (('take', 'arrow'), 2.636636954912835),\n",
       " (('gon', 'na'), 2.4477882018285806),\n",
       " (('white', 'knight'), 2.446572815432439),\n",
       " (('year', 'old'), 2.438146136419193),\n",
       " (('real', 'life'), 2.415458923691222),\n",
       " (('feel', 'bad'), 2.4130281508989393),\n",
       " (('ha', 'ha'), 2.233227680773383),\n",
       " (('walk', 'away'), 2.229144754229174),\n",
       " (('edit', 'downvote'), 2.0608901990569333),\n",
       " (('dog', 'park'), 1.9916641857695743),\n",
       " (('god', 'damn'), 1.9896794680956633),\n",
       " (('op', 'brother'), 1.9884886374913169),\n",
       " (('delete', 'post'), 1.9727597499255731),\n",
       " (('group', 'people'), 1.9543514935000497),\n",
       " (('edit', 'guy'), 1.9506625361322965),\n",
       " (('guy', 'stop'), 1.894611491515332),\n",
       " (('good', 'thing'), 1.873474248288181),\n",
       " (('think', 'funny'), 1.8356653766001787),\n",
       " (('edit', 'fuck'), 1.8007037449053083),\n",
       " (('get', 'downvote'), 1.738017267043763),\n",
       " (('thursday', '4th'), 1.7315351627913933),\n",
       " (('jim', 'morrison'), 1.7313632811988988),\n",
       " (('graphic', 'design'), 1.7311341057422391),\n",
       " (('http://www.reddit.com/wiki/reddiquette',\n",
       "   'http://www.reddit.com/wiki/reddiquette'),\n",
       "  1.7311341057422391),\n",
       " (('tuesday', '2nd'), 1.7311341057422391),\n",
       " (('wednesday', '3rd'), 1.7311341057422391),\n",
       " (('copy', 'paste'), 1.73067575482892),\n",
       " (('perm', 'ban'), 1.7305038732364253),\n",
       " (('/r', 'modtalk'), 1.7287850573114785),\n",
       " (('learn', 'lesson'), 1.7282694125339946),\n",
       " (('y', 'u'), 1.7277537677565105),\n",
       " (('dog', 'owner'), 1.7272381229790266),\n",
       " (('pass', 'message'), 1.7270089475223667),\n",
       " (('answer', 'question'), 1.726378715016553),\n",
       " (('ugly', 'ass'), 1.726378715016553),\n",
       " (('u', 'mad'), 1.7243161359066168),\n",
       " (('work', 'oren'), 1.7233421402158136)]"
      ]
     },
     "execution_count": 116,
     "metadata": {},
     "output_type": "execute_result"
    }
   ],
   "source": [
    "bigram_measures = nltk.collocations.BigramAssocMeasures()\n",
    "negBigrams.score_ngrams(bigram_measures.student_t)[:40]"
   ]
  },
  {
   "cell_type": "code",
   "execution_count": 117,
   "metadata": {},
   "outputs": [
    {
     "data": {
      "text/plain": [
       "[(('take', 'arrow', 'knee'), 2.4494819272588684),\n",
       " (('ha', 'ha', 'ha'), 1.73204789653797),\n",
       " (('jerry', 'elaine', 'kramer'), 1.4142135066657484),\n",
       " (('science](http://www.amazon.com', 'gp', 'product/0136020070?ie'),\n",
       "  1.4142135066657484),\n",
       " (('earth', 'science](http://www.amazon.com', 'gp'), 1.4142134788120753),\n",
       " (('relate', 'earth', 'science](http://www.amazon.com'), 1.4142133534705457),\n",
       " (('gp', 'product/0136020070?ie', '='), 1.4142133116900357),\n",
       " (('polidebanews-20&amp;linkcode',\n",
       "   '=',\n",
       "   'xm2&amp;camp=1789&amp;creativeasin=0136020070'),\n",
       "  1.4142133116900357),\n",
       " (('product/0136020070?ie', '=', 'utf8&amp;tag'), 1.4142133116900357),\n",
       " (('sexy', 'public', 'flashing'), 1.4142133116900357),\n",
       " (('utf8&amp;tag', '=', 'polidebanews-20&amp;linkcode'), 1.4142133116900357),\n",
       " (('http://www.reddit.com/wiki/reddiquette',\n",
       "   'http://www.reddit.com/wiki/reddiquette',\n",
       "   'http://www.reddit.com/wiki/reddiquette'),\n",
       "  1.414213116714323),\n",
       " (('jim', 'morrison', 'stand'), 1.4142130610069767),\n",
       " (('outright', 'perm', 'ban'), 1.414212998336212),\n",
       " (('=', 'polidebanews-20&amp;linkcode', '='), 1.414212434299329),\n",
       " (('=', 'utf8&amp;tag', '='), 1.414212434299329),\n",
       " (('jay', 'wilson', 'say'), 1.4142123368114725),\n",
       " (('marriage', 'include', 'homosexual'), 1.4142123368114725),\n",
       " (('political', 'correctness', 'go'), 1.4142122253967797),\n",
       " (('ugly', 'ass', 'jerk'), 1.4142121836162698)]"
      ]
     },
     "execution_count": 117,
     "metadata": {},
     "output_type": "execute_result"
    }
   ],
   "source": [
    "trigram_measures = nltk.collocations.TrigramAssocMeasures()\n",
    "negTrigrams = nltk.collocations.TrigramCollocationFinder.from_words(df['normalized_tokens'].sum())\n",
    "negTrigrams.score_ngrams(trigram_measures.student_t)[:20]"
   ]
  },
  {
   "cell_type": "code",
   "execution_count": 118,
   "metadata": {},
   "outputs": [
    {
     "name": "stdout",
     "output_type": "stream",
     "text": [
      "{('jay', 'wilson', 'say', 'facebook'): 2, ('nt', 'know', 'shit', 'batman'): 2, ('take', 'arrow', 'knee', 'fuck'): 2, ('relate', 'earth', 'science](http://www.amazon.com', 'gp'): 2, ('earth', 'science](http://www.amazon.com', 'gp', 'product/0136020070?ie'): 2, ('science](http://www.amazon.com', 'gp', 'product/0136020070?ie', '='): 2, ('gp', 'product/0136020070?ie', '=', 'utf8&amp;tag'): 2, ('product/0136020070?ie', '=', 'utf8&amp;tag', '='): 2, ('=', 'utf8&amp;tag', '=', 'polidebanews-20&amp;linkcode'): 2, ('utf8&amp;tag', '=', 'polidebanews-20&amp;linkcode', '='): 2, ('=', 'polidebanews-20&amp;linkcode', '=', 'xm2&amp;camp=1789&amp;creativeasin=0136020070'): 2, ('way', 'm', 'call', 'troll'): 2, ('edit', 'okay', 'm', 'sorry'): 2}\n"
     ]
    }
   ],
   "source": [
    "Ngrams = nltk.ngrams(df['normalized_tokens'].sum(), 4)\n",
    "Counts = {}\n",
    "for ngram in list(Ngrams):\n",
    "    if ngram in Counts.keys():\n",
    "        Counts[ngram] += 1\n",
    "    else:\n",
    "        Counts[ngram] = 1\n",
    "Filtered = {}\n",
    "for key in Counts.keys():\n",
    "    if Counts[key] < 2:\n",
    "        pass\n",
    "    else:\n",
    "        Filtered[key] = Counts[key]\n",
    "print(Filtered)"
   ]
  },
  {
   "cell_type": "code",
   "execution_count": 120,
   "metadata": {},
   "outputs": [
    {
     "name": "stdout",
     "output_type": "stream",
     "text": [
      "(('feel', 'bad'), 2.4130281508989393)\n",
      "(('feel', 'sympathy'), 1.4100033403952055)\n",
      "(('feel', 'need'), 1.3552704546826413)\n",
      "(('feel', 'm'), 1.2015973524896735)\n",
      "(('feel', 'astronaut'), 0.9970229234891337)\n",
      "(('feel', 'option'), 0.9970229234891337)\n",
      "(('feel', 'slight'), 0.9970229234891337)\n",
      "(('feel', 'urge'), 0.9970229234891337)\n",
      "(('mods', 'feel'), 0.9970229234891337)\n",
      "(('partner', 'feel'), 0.9970229234891337)\n",
      "(('twat', 'feel'), 0.9970229234891337)\n",
      "(('feel', 'basically'), 0.9940458469782674)\n",
      "(('feel', 'necessary'), 0.9940458469782674)\n",
      "(('feel', 'worthy'), 0.9940458469782674)\n",
      "(('pain', 'feel'), 0.9940458469782674)\n",
      "(('sight', 'feel'), 0.991068770467401)\n",
      "(('feel', 'genuine'), 0.9880916939565347)\n",
      "(('rape', 'feel'), 0.9880916939565347)\n",
      "(('fly', 'feel'), 0.9851146174456683)\n",
      "(('dick', 'feel'), 0.982137540934802)\n",
      "(('face', 'feel'), 0.982137540934802)\n",
      "(('feel', 'fair'), 0.982137540934802)\n",
      "(('feel', 'free'), 0.982137540934802)\n",
      "(('feel', 'wake'), 0.982137540934802)\n",
      "(('suppose', 'feel'), 0.982137540934802)\n",
      "(('boy', 'feel'), 0.9791604644239357)\n",
      "(('feel', 'completely'), 0.9791604644239357)\n",
      "(('feel', 'crap'), 0.9791604644239357)\n",
      "(('second', 'feel'), 0.9791604644239357)\n",
      "(('feel', 'dumb'), 0.9761833879130694)\n",
      "(('past', 'feel'), 0.9702292348913367)\n",
      "(('wonder', 'feel'), 0.9702292348913367)\n",
      "(('honestly', 'feel'), 0.9672521583804704)\n",
      "(('history', 'feel'), 0.9612980053587377)\n",
      "(('feel', 'great'), 0.9523667758261387)\n",
      "(('reason', 'feel'), 0.9523667758261387)\n",
      "(('talk', 'feel'), 0.9523667758261387)\n",
      "(('feel', 'well'), 0.9404584697826734)\n",
      "(('leave', 'feel'), 0.9404584697826734)\n",
      "(('believe', 'feel'), 0.9315272402500744)\n",
      "(('kid', 'feel'), 0.9255730872283418)\n",
      "(('feel', 'sorry'), 0.9196189342066091)\n",
      "(('woman', 'feel'), 0.9017564751414111)\n",
      "(('life', 'feel'), 0.8958023221196785)\n",
      "(('stop', 'feel'), 0.8928252456088122)\n",
      "(('point', 'feel'), 0.8898481690979458)\n",
      "(('try', 'feel'), 0.8809169395653469)\n",
      "(('feel', 'thing'), 0.8511461744566835)\n",
      "(('want', 'feel'), 0.8481690979458172)\n",
      "(('time', 'feel'), 0.8451920214349509)\n",
      "(('comment', 'feel'), 0.7886275677284906)\n",
      "(('people', 'feel'), 0.6576362012503721)\n"
     ]
    }
   ],
   "source": [
    "for i in negBigrams.score_ngrams(bigram_measures.student_t):\n",
    "    if 'feel' in i[0]:\n",
    "        print(i)"
   ]
  },
  {
   "cell_type": "markdown",
   "metadata": {},
   "source": [
    "One thing I am interested in about the bigrams in my corpus is that \"take\", \"arrow\", and \"knee\" always appear together, and according to the t-value, it seems that there exists some relationship between these three words. I search the Internet and find that there is actually a meme from a popular computer game, \"I used to xxx, until I took an arrow in the knee.\" I think this bigram suggests that many reddit users are also computer game players or at least they are willing to accept this kind of culture."
   ]
  },
  {
   "cell_type": "markdown",
   "metadata": {},
   "source": [
    "## <span style=\"color:red\">*Exercise 4*</span>\n",
    "\n",
    "<span style=\"color:red\">In the cells immediately following, perform NER on a (modest) subset of your corpus of interest. List all of the different kinds of entities tagged? What does their distribution suggest about the focus of your corpus? For a subset of your corpus, tally at least one type of named entity and calculate the Precision, Recall and F-score for the NER classification just performed."
   ]
  },
  {
   "cell_type": "code",
   "execution_count": 121,
   "metadata": {},
   "outputs": [],
   "source": [
    "def tag_sents_ner(sentences):\n",
    "    new_sents = []\n",
    "    for sentence in sentences:\n",
    "        new_sent = ' '.join(sentence)\n",
    "        new_sents.append(new_sent)\n",
    "    final_string = ' '.join(new_sents)\n",
    "    doc = nlp(final_string)\n",
    "    \n",
    "    pos_sents = []\n",
    "    for sent in doc.sents:\n",
    "        pos_sent = []\n",
    "        for ent in sent.ents:\n",
    "            pos_sent.append((ent.text, ent.label_))\n",
    "        pos_sents.append(pos_sent)\n",
    "    \n",
    "    return pos_sents\n",
    "\n",
    "\n",
    "df['classified_sents'] = df['sentences'].apply(lambda x: tag_sents_ner(x))## <span style=\"color:red\">*Exercise 4*</span>\n",
    "\n",
    "<span style=\"color:red\">In the cells immediately following, perform NER on a (modest) subset of your corpus of interest. List all of the different kinds of entities tagged? What does their distribution suggest about the focus of your corpus? For a subset of your corpus, tally at least one type of named entity and calculate the Precision, Recall and F-score for the NER classification just performed."
   ]
  },
  {
   "cell_type": "code",
   "execution_count": 122,
   "metadata": {},
   "outputs": [
    {
     "data": {
      "text/plain": [
       "0      [[(muslims, NORP)], [], [], [], [], [], [], []...\n",
       "1                                                   [[]]\n",
       "2      [[(First, ORDINAL), (second, ORDINAL)], [(Lets...\n",
       "3                                               [[], []]\n",
       "4                                               [[], []]\n",
       "                             ...                        \n",
       "495                                             [[], []]\n",
       "496                           [[], [], [(3rd, ORDINAL)]]\n",
       "497    [[(16, CARDINAL), (30, CARDINAL)], [(2, CARDIN...\n",
       "498                                                 [[]]\n",
       "499                                                 [[]]\n",
       "Name: classified_sents, Length: 500, dtype: object"
      ]
     },
     "execution_count": 122,
     "metadata": {},
     "output_type": "execute_result"
    }
   ],
   "source": [
    "df['classified_sents']"
   ]
  },
  {
   "cell_type": "code",
   "execution_count": 123,
   "metadata": {},
   "outputs": [
    {
     "data": {
      "text/plain": [
       "[('one', 23),\n",
       " ('first', 17),\n",
       " ('2', 13),\n",
       " ('May 2032', 12),\n",
       " ('George', 12),\n",
       " ('OP', 10),\n",
       " ('3', 8),\n",
       " ('two', 7),\n",
       " ('ELIZA', 6),\n",
       " ('American', 5)]"
      ]
     },
     "execution_count": 123,
     "metadata": {},
     "output_type": "execute_result"
    }
   ],
   "source": [
    "entityCounts = {}\n",
    "for entry in df['classified_sents']:\n",
    "    for sentence in entry:\n",
    "        for ent, kind in sentence:\n",
    "            if ent in entityCounts:\n",
    "                entityCounts[ent] += 1\n",
    "            else:\n",
    "                entityCounts[ent] = 1\n",
    "sortedEntities = sorted(entityCounts.items(), key = lambda x: x[1], reverse = True)\n",
    "sortedEntities[:10]"
   ]
  },
  {
   "cell_type": "code",
   "execution_count": 126,
   "metadata": {},
   "outputs": [
    {
     "data": {
      "text/plain": [
       "['five',\n",
       " 'Jay Wilson',\n",
       " 'EPA',\n",
       " 'yesterday',\n",
       " 'Dude',\n",
       " 'Oren',\n",
       " 'YOLO',\n",
       " 'four',\n",
       " 'Tuesday',\n",
       " 'George Costanza',\n",
       " 'Jerry Elaine',\n",
       " 'Kramer',\n",
       " 'New York',\n",
       " '16',\n",
       " '5 years',\n",
       " 'half',\n",
       " '101',\n",
       " 'xanax',\n",
       " '4chan',\n",
       " 'Earth',\n",
       " 'America',\n",
       " 'Hotmail',\n",
       " 'haha',\n",
       " 'Americans',\n",
       " 'ONE',\n",
       " 'doe',\n",
       " 'million',\n",
       " 'today',\n",
       " 'Edit 2',\n",
       " 'Sovngarde',\n",
       " 'at least one',\n",
       " 'Philadelphia',\n",
       " 'Demarco Edit',\n",
       " 'Admins',\n",
       " 'Christian',\n",
       " 'English',\n",
       " '8th',\n",
       " 'TSA',\n",
       " '30',\n",
       " 'Next',\n",
       " 'SRD',\n",
       " 'Canadian',\n",
       " 'Better Call Saul',\n",
       " 'Weizenbaum',\n",
       " '22',\n",
       " 'yeh']"
      ]
     },
     "execution_count": 126,
     "metadata": {},
     "output_type": "execute_result"
    }
   ],
   "source": [
    "[x[0] for x in sortedEntities if x[1] == 2]"
   ]
  },
  {
   "cell_type": "code",
   "execution_count": 127,
   "metadata": {},
   "outputs": [
    {
     "data": {
      "text/plain": [
       "[('one', 23),\n",
       " ('first', 17),\n",
       " ('2', 13),\n",
       " ('May 2032', 12),\n",
       " ('George', 12),\n",
       " ('3', 8),\n",
       " ('two', 7),\n",
       " ('American', 5),\n",
       " ('second', 4),\n",
       " ('100', 4)]"
      ]
     },
     "execution_count": 127,
     "metadata": {},
     "output_type": "execute_result"
    }
   ],
   "source": [
    "nonObjCounts = {}\n",
    "for entry in df['classified_sents']:\n",
    "    for sentence in entry:\n",
    "        for ent, kind in sentence:\n",
    "            if kind == 'ORG':\n",
    "                continue\n",
    "            elif ent in nonObjCounts:\n",
    "                nonObjCounts[ent] += 1\n",
    "            else:\n",
    "                nonObjCounts[ent] = 1\n",
    "sortedNonObj = sorted(nonObjCounts.items(), key = lambda x: x[1], reverse = True)\n",
    "sortedNonObj[:10]"
   ]
  },
  {
   "cell_type": "code",
   "execution_count": 128,
   "metadata": {},
   "outputs": [
    {
     "name": "stdout",
     "output_type": "stream",
     "text": [
      "Lets\n",
      "Oatmeal\n",
      "Google\n",
      "sci\n",
      "EPA\n",
      "EPA\n",
      "OP\n",
      "RPG\n",
      "PG13\n",
      "SPITE\n",
      "nice spelling douche\n",
      "Analyze\n",
      "Divorce\n",
      "knee!](http://twistedsifter.sifter.netdna\n",
      "YOLO\n",
      "Blink\n",
      "Congratulations Slut\n",
      "social mobility\n",
      "Apple\n",
      "Riddler\n",
      "/r\n",
      "Hint\n",
      "Karma\n",
      "OP\n",
      "joe_archer\n",
      "Time\n",
      "/r\n",
      "YOLO OP 'S\n",
      "gt;it\n",
      "The Luftwaffe\n",
      "white knights\n",
      "Everything 's\n",
      "Edit -125 Y'all\n",
      "Amazon\n",
      "Gotchya\n",
      "Apple\n",
      "Nope\n",
      "gt;That\n",
      "NEUTRAL\n",
      "FTFY\n",
      "SHAME\n",
      "Edit GODDAMMIT Edit 2\n",
      "Narcissists\n",
      "wat\n",
      "UI\n",
      "Sweep Hotmail Active Views\n",
      "IMAP\n",
      "Pokemon\n",
      "OP\n",
      "cal**LE**d\n",
      "THE ASS NIGGER\n",
      "Edit Jeez\n",
      "Yahoo\n",
      "Apple\n",
      "EDIT\n",
      "gt;How dare someone\n",
      "navy\n",
      "MOTORCYCLE BOY CERTAINLY\n",
      "PoorLogic\n",
      "mcdonalds\n",
      "doe\n",
      "taliban\n",
      "gt;Or\n",
      "gt;as\n",
      "DRM\n",
      "TL;DR\n",
      "OP\n",
      "OP\n",
      "OP\n",
      "/u xisytenin\n",
      "OP\n",
      "Murray\n",
      "Edit Edit\n",
      "li(nk)[http://www.youtube.com\n",
      "Nintendo\n",
      "Pretty\n",
      "Thor\n",
      "xkcd\n",
      "un\n",
      "Obama\n",
      "OP\n",
      "LOL DOWNVOTE ME\n",
      "LOL OP\n",
      "u\n",
      "mcdonald\n",
      "le\n",
      "Paint\n",
      "ERLERGERNT MAHTHERMAHTERCS ERERNT\n",
      "TSA\n",
      "TSA\n",
      "YOLO\n",
      "Next\n",
      "/r\n",
      "/r\n",
      "SRS\n",
      "SRD\n",
      "SRD\n",
      "CS\n",
      "OP\n",
      "OP\n",
      "WHat\n",
      "Luckily\n",
      "Next\n",
      "GTFO\n",
      "MRW\n",
      "Better Call Saul\n",
      "Woof](http://i.imgur.com/51oBhlo.gif Intelligence\n",
      "DarqWolff\n",
      "Navy\n",
      "the Navy Seals\n",
      "Wikipedia\n",
      "ELIZA\n",
      "ELIZA\n",
      "Weizenbaum\n",
      "ELIZA\n",
      "ELIZA\n",
      "Weizenbaum\n",
      "ELIZA\n",
      "ELIZA\n",
      "Misandry\n",
      "Fact   Minecraft\n",
      "xmithie EDIT Omg\n",
      "EDIT http://www.reddit.com/wiki/reddiquette http://www.reddit.com/wiki/reddiquette\n",
      "Create\n",
      "karma party\n",
      "Kate Winslet\n",
      "XDDDDDDDDDDDDDDDDDDD DAE\n",
      "MOS\n",
      "APC\n",
      "Fiddlers Green\n",
      "101st\n",
      "Graphics\n",
      "EDIT Unlike\n",
      "WTF\n",
      "u post dat fyi u\n",
      "ull\n"
     ]
    }
   ],
   "source": [
    "OrgCounts = {}\n",
    "for entry in df['classified_sents']:\n",
    "    for sentence in entry:\n",
    "        for ent, kind in sentence:\n",
    "            if kind == 'ORG':\n",
    "                print(ent)"
   ]
  },
  {
   "cell_type": "code",
   "execution_count": 135,
   "metadata": {},
   "outputs": [
    {
     "name": "stdout",
     "output_type": "stream",
     "text": [
      "California\n",
      "the United States\n",
      "USA\n",
      "Oren\n",
      "Santorum\n",
      "france\n",
      "toronto\n",
      "New York\n",
      "Jersey\n",
      "Diablo\n",
      "Oren\n",
      "http://www.reddit.com/r/pics/comments/fl59q/reddit_look_what_my_wife_made_me_for_valentines/\n",
      "xanax\n",
      "Florida\n",
      "Denoting\n",
      "Triachus\n",
      "Canada\n",
      "kinda\n",
      "Catelyn\n",
      "Neds\n",
      "Libya\n",
      "America\n",
      "West Zealand\n",
      "PROVIDE\n",
      "Incognito\n",
      "France\n",
      "Sovngarde\n",
      "Sovngarde\n",
      "Philadelphia\n",
      "Neymar\n",
      "America\n",
      "vitriol\n",
      "US\n",
      "us\n",
      "Philadelphia\n",
      "New York\n",
      "Ar Ramadi\n",
      "Paktika\n"
     ]
    }
   ],
   "source": [
    "OrgCounts = {}\n",
    "for entry in df['classified_sents']:\n",
    "    for sentence in entry:\n",
    "        for ent, kind in sentence:\n",
    "            if kind == 'GPE':\n",
    "                print(ent)"
   ]
  },
  {
   "cell_type": "code",
   "execution_count": 136,
   "metadata": {},
   "outputs": [
    {
     "name": "stdout",
     "output_type": "stream",
     "text": [
      "muslims\n",
      "Mexicans\n",
      "Atheist\n",
      "American\n",
      "Tagaryean\n",
      "Iranian\n",
      "Iranian\n",
      "Iranian\n",
      "Imperialist\n",
      "Hotmail\n",
      "Sink\n",
      "American\n",
      "Americans\n",
      "American\n",
      "Americans\n",
      "American\n",
      "American\n",
      "Buncha\n",
      "Christian\n",
      "Christian\n",
      "mans\n",
      "German\n",
      "Socialist\n",
      "Muslims\n",
      "Muslim\n",
      "americans\n",
      "Canadian\n",
      "C'mon\n",
      "Canadian\n",
      "Rogerian\n",
      "christian\n"
     ]
    }
   ],
   "source": [
    "OrgCounts = {}\n",
    "for entry in df['classified_sents']:\n",
    "    for sentence in entry:\n",
    "        for ent, kind in sentence:\n",
    "            if kind == 'NORP':\n",
    "                print(ent)"
   ]
  },
  {
   "cell_type": "code",
   "execution_count": 137,
   "metadata": {},
   "outputs": [
    {
     "name": "stdout",
     "output_type": "stream",
     "text": [
      "Jay Wilson\n",
      "EVERYONE\n",
      "kuddos\n",
      "XD\n",
      "LITERALLY\n",
      "Destiny\n",
      "Fuck\n",
      "boob\n",
      "Wtf\n",
      "Dude\n",
      "xdxdxdxdxd xd\n",
      "Huppenthal\n",
      "wp content\n",
      "neil degrasse\n",
      "O'Reilly\n",
      "Read Amos\n",
      "Iama\n",
      "George Costanza\n",
      "George\n",
      "George\n",
      "George\n",
      "George\n",
      "Jerry Elaine\n",
      "Kramer\n",
      "George\n",
      "n’t\n",
      "George\n",
      "Jim Morrison\n",
      "Jim Morrison\n",
      "George\n",
      "George\n",
      "Jim Morrison\n",
      "George\n",
      "Morrison\n",
      "George\n",
      "George\n",
      "Jerry Elaine\n",
      "Kramer\n",
      "Monk\n",
      "George\n",
      "George Costanza\n",
      "Dude\n",
      "Rampart\n",
      "Oren Moverman\n",
      "nolan PBUH\n",
      "LOL ANARCHISM\n",
      "Jay Wilson\n",
      "Especially Brie\n",
      "Lol Reddit\n",
      "Normal\n",
      "xanax\n",
      "FUCK OBAMA\n",
      "Points Will_Im_Not\n",
      "Nigger\n",
      "RES\n",
      "Le Bazinga\n",
      "Fuck\n",
      "Fuck\n",
      "Die Digg\n",
      "Lil Wayne\n",
      "Rosa Parks\n",
      "DIGG\n",
      "Mary Sue\n",
      "lol funny story i m\n",
      "yea\n",
      "bein\n",
      "Lol\n",
      "karmanaut\n",
      "Beck\n",
      "Robb\n",
      "Jon Snow\n",
      "Mil gracias el\n",
      "Hotmail\n",
      "David\n",
      "Dane Cook\n",
      "haha\n",
      "dorothy\n",
      "Oz\n",
      "James Holmes\n",
      "Jesus\n",
      "Cum\n",
      "Dave Brown\n",
      "Quit\n",
      "Yum\n",
      "Chariot Blades\n",
      "Wayyy\n",
      "doe\n",
      "ken one\n",
      "le ug\n",
      "Demarco Edit\n",
      "Demarco Edit\n",
      "Cousins\n",
      "gt;You're\n",
      "Admins\n",
      "mod\n",
      "Thor\n",
      "Thor\n",
      "Thor\n",
      "Civic Engineer\n",
      "Ron Paul Reddit\n",
      "randall munroe\n",
      "goatkcd\n",
      "George W. Bush\n",
      "bush\n",
      "lol\n",
      "Aurora\n",
      "Blizzard\n",
      "Joey\n",
      "kinda gay\n",
      "George Bush\n",
      "Sarcasm\n",
      "fuckin downvotin\n",
      "waaaay\n",
      "LOL\n",
      "Diane Douglas\n",
      "Fuck\n",
      "Atheism\n",
      "Hijack\n",
      "Seth\n",
      "michael moore\n",
      "Jamie\n",
      "LOL Hypocrisy\n",
      "Bitch\n",
      "Guy\n",
      "Admins\n",
      "Yeh\n",
      "David Luiz\n",
      "C'mon Lol Shout\n",
      "Haha\n",
      "haha\n",
      "Lol nah\n",
      "Always Sunny\n",
      "Minnie Driver\n",
      "Anna Kendrick\n",
      "Kangaroos This\n",
      "alredy hav\n",
      "yeh srry\n",
      "yeh\n",
      "dis\n",
      "yeh\n"
     ]
    }
   ],
   "source": [
    "OrgCounts = {}\n",
    "for entry in df['classified_sents']:\n",
    "    for sentence in entry:\n",
    "        for ent, kind in sentence:\n",
    "            if kind == 'PERSON':\n",
    "                print(ent)"
   ]
  },
  {
   "cell_type": "code",
   "execution_count": 134,
   "metadata": {},
   "outputs": [
    {
     "data": {
      "text/plain": [
       "[[('muslims', 'NORP')],\n",
       " [('California', 'GPE'), ('Mexicans', 'NORP')],\n",
       " [('First', 'ORDINAL'), ('second', 'ORDINAL')],\n",
       " [('Lets', 'ORG')],\n",
       " [('months', 'DATE')],\n",
       " [('Oatmeal', 'ORG')],\n",
       " [('100', 'CARDINAL'),\n",
       "  ('one', 'CARDINAL'),\n",
       "  ('five', 'CARDINAL'),\n",
       "  ('six', 'CARDINAL'),\n",
       "  ('Google', 'ORG')],\n",
       " [('Jay Wilson', 'PERSON')],\n",
       " [('the end of the day', 'DATE')],\n",
       " [('sci', 'ORG')],\n",
       " [('50th', 'ORDINAL')],\n",
       " [('EPA', 'ORG')],\n",
       " [('EPA', 'ORG'),\n",
       "  ('the next 30 years', 'DATE'),\n",
       "  ('the past 30', 'DATE'),\n",
       "  ('one', 'CARDINAL'),\n",
       "  ('the United States', 'GPE')],\n",
       " [('Every day', 'DATE')],\n",
       " [('OP', 'ORG')],\n",
       " [('a quarter', 'CARDINAL')],\n",
       " [('36', 'DATE')],\n",
       " [('EVERYONE', 'PERSON')],\n",
       " [('2', 'CARDINAL')],\n",
       " [('kuddos', 'PERSON')]]"
      ]
     },
     "execution_count": 134,
     "metadata": {},
     "output_type": "execute_result"
    }
   ],
   "source": [
    "class_sents = []\n",
    "for i in df['classified_sents'].sum():\n",
    "    if i:\n",
    "        class_sents.append(i)\n",
    "class_sents[:20]"
   ]
  },
  {
   "cell_type": "code",
   "execution_count": 139,
   "metadata": {},
   "outputs": [
    {
     "name": "stdout",
     "output_type": "stream",
     "text": [
      "Precision: 0.6666666666666666\n",
      "Recall: 1\n",
      "F1-score: 0.8\n"
     ]
    }
   ],
   "source": [
    "#Given that entities originally do not have tags, I hand tag the above words in the first 20 comments\n",
    "#Below are the precision and the recall of the tag \"person\"\n",
    "precision_person = 2 / 3\n",
    "recall_person = 1\n",
    "f1_person = 2 * precision_person * recall_person / (precision_person + recall_person)\n",
    "print('Precision:', precision_person)\n",
    "print('Recall:', recall_person)\n",
    "print('F1-score:', f1_person)"
   ]
  },
  {
   "cell_type": "markdown",
   "metadata": {},
   "source": [
    "According to the list of all the entities tagged as \"NORP\" (nationality, or religious or political organization), I find that most of their comments are related to Americans, Iranians, muslims, Christians, and Canadians. which suggests that the reddit users included in this dataset are mostly Americans and Candadians and I guess the appearance of Iranians are likely to be related to political affairs considering the political relationship between the U.S. and Iran."
   ]
  },
  {
   "cell_type": "markdown",
   "metadata": {},
   "source": [
    "## <span style=\"color:red\">*Your turn*</span>\n",
    "\n",
    "<span style=\"color:red\">In the cells immediately following, parse a (modest) subset of your corpus of interest. How deep are the phrase structure and dependency parse trees nested? How does parse depth relate to perceived sentence complexity? What are five things you can extract from these parses for subsequent analysis? (e.g., nouns collocated in a noun phrase; adjectives that modify a noun; etc.) Capture these sets of things for a focal set of words (e.g., \"Bush\", \"Obama\", \"Trump\"). What do they reveal about the roles that these entities are perceive to play in the social world inscribed by your texts?"
   ]
  },
  {
   "cell_type": "code",
   "execution_count": 152,
   "metadata": {},
   "outputs": [
    {
     "data": {
      "text/plain": [
       "[(['They'], []),\n",
       " ([], ['you']),\n",
       " (['I'], []),\n",
       " (['I'], []),\n",
       " (['I'], []),\n",
       " (['we'], []),\n",
       " (['I'], []),\n",
       " (['I'], []),\n",
       " ([], ['you']),\n",
       " (['I'], []),\n",
       " ([], ['books']),\n",
       " (['I'], []),\n",
       " ([], ['downvotes']),\n",
       " ([], ['what']),\n",
       " (['you'], [])]"
      ]
     },
     "execution_count": 152,
     "metadata": {},
     "output_type": "execute_result"
    }
   ],
   "source": [
    "local_tree_list = []\n",
    "text = ' '.join(df['tokenized_text'].sum())\n",
    "doc = nlp(text)\n",
    "for chunk in doc.noun_chunks:\n",
    "    whole = ([], [])\n",
    "    subject = 0\n",
    "    object_ = 0\n",
    "    if chunk.root.head.text == 'love':\n",
    "        # we find the subjects and objects around the word, and if it does exist, add it to the tuple\n",
    "        if chunk.root.dep_ == 'nsubj':\n",
    "            subject = chunk.root.text\n",
    "        if chunk.root.dep_ == 'dobj':\n",
    "            object_ = chunk.root.text\n",
    "        if subject != 0:\n",
    "            whole[0].append(subject)\n",
    "        if object_ != 0:\n",
    "            whole[1].append(object_)\n",
    "        if subject != 0 or object_ != 0:\n",
    "            local_tree_list.append(whole)\n",
    "local_tree_list"
   ]
  },
  {
   "cell_type": "code",
   "execution_count": 160,
   "metadata": {},
   "outputs": [
    {
     "data": {
      "text/plain": [
       "[(['I'], []),\n",
       " ([], ['islam']),\n",
       " (['I'], []),\n",
       " ([], ['you']),\n",
       " (['I'], []),\n",
       " ([], ['you']),\n",
       " (['me'], []),\n",
       " (['I'], []),\n",
       " ([], ['it']),\n",
       " (['I'], []),\n",
       " (['I'], []),\n",
       " ([], ['patting']),\n",
       " (['everyone'], []),\n",
       " ([], ['arrow']),\n",
       " (['you'], []),\n",
       " ([], ['Muslims']),\n",
       " (['who'], []),\n",
       " ([], ['men']),\n",
       " (['I'], []),\n",
       " ([], ['show'])]"
      ]
     },
     "execution_count": 160,
     "metadata": {},
     "output_type": "execute_result"
    }
   ],
   "source": [
    "local_tree_list = []\n",
    "text = ' '.join(df['tokenized_text'].sum())\n",
    "doc = nlp(text)\n",
    "for chunk in doc.noun_chunks:\n",
    "    whole = ([], [])\n",
    "    subject = 0\n",
    "    object_ = 0\n",
    "    if chunk.root.head.text == 'hate':\n",
    "        # we find the subjects and objects around the word, and if it does exist, add it to the tuple\n",
    "        if chunk.root.dep_ == 'nsubj':\n",
    "            subject = chunk.root.text\n",
    "        if chunk.root.dep_ == 'dobj':\n",
    "            object_ = chunk.root.text\n",
    "        if subject != 0:\n",
    "            whole[0].append(subject)\n",
    "        if object_ != 0:\n",
    "            whole[1].append(object_)\n",
    "        if subject != 0 or object_ != 0:\n",
    "            local_tree_list.append(whole)\n",
    "local_tree_list"
   ]
  },
  {
   "cell_type": "code",
   "execution_count": 181,
   "metadata": {},
   "outputs": [
    {
     "name": "stdout",
     "output_type": "stream",
     "text": [
      "[('I', hate), ('it', stands), ('I', want), ('that', comes), ('that', keep), ('people', belong), ('you', think), ('they', hail), ('They', run), ('they', created), ('they', attempt), ('They', destroying), ('It', spreading), ('politicians', continue), ('I', want), ('Who', made), ('you', reddit), ('I', submit), ('I', want), ('We', got), ('i', consider), ('ve', threatening), ('You', leaving), ('I', upvoted), ('I', think), ('that', invites), ('I', find), ('one', made), ('he', hates), ('he', promoting), ('he', gaming), ('who', start), ('game', speak), ('I', want), ('subreddit', focus), ('it', change), ('I', care), ('Wilson', said), ('they', want), ('I', think), ('that', s), ('We', send), ('things', work), ('you', cherry), ('cherry', pick), ('officials', made), ('Di5A5.jpg', look), ('He', touch), ('EPA', done), ('That', lives), ('kid', lives), ('They', give), ('people', paying), ('we', stop), ('who', contribute), ('FLOSSDAILY', STOLE), ('HE', TRIED), ('That', happen), ('She', became), ('she', wakes), ('She', works), ('pimp', beats), ('her', call), ('he', rapes), ('you', edit), ('I', said), ('I', clicked), ('you', reddit), ('you', fucking), ('We', going), ('you', need), ('He', knows), ('I', care), ('I', stand), ('I', typed), ('I', getting), ('I', visited), ('who', upvoted), ('People', come), ('they', improve), ('hair', looks), ('she', working), ('you', going), ('you', handle), ('people', feel), ('You', know), ('le', chilling), ('I', shaking), ('I', apologize), ('I', post), ('You', comparing), ('I', trying), ('He', running), ('I', think), ('analogy', holds), ('you', turn), ('they', turn), ('I', like), ('internet', turned), ('internet', turn), ('I', break), ('What', makes), ('I', lurking), ('ve', lurking), ('I', came), ('I', think), ('I', saw), ('I', thought), ('it', join), ('They', love), ('you', having), ('I', appreciate), ('you', kept), ('we', talking), ('ve', tagged), ('I', recommend), ('you', see), ('We', developing), ('We', think), ('I', love), ('You', connecting), ('I', found), ('page', saved), ('what', going), ('someone', deleted), ('I', posted), ('i', linked), ('i', owned), ('i', said), ('people', expect), ('it', makes), ('women', look), ('who', support), ('He', gets), ('she', gets), ('you', live), ('that', offers), ('I', think), ('I', say), ('I', made), ('guys', taking), ('I', chuckled), ('it', getting), ('I', plead), ('people', said), ('you', needed), ('you', keep), ('You', going), ('you', re), ('I', live), ('I', seen), ('picture', reveals), ('that', presents), ('I', put), ('who', behave), ('you', make), ('you', made), ('you', think), ('you', found), ('ve', found), ('bag', presume), ('them', ask), ('sheeple', Shut), ('xd', memes), ('That', escalated), ('I', say), ('It', took), ('I', say), ('he', gives), ('he', says), ('he', finds), ('this', working), ('he', commands), ('you', tells), ('he', pushing), ('they', come), ('I', give), ('Santorum', wanted), ('hordes', upvote), ('This', sounds), ('Who', cares), ('career', ruined), ('mother', accusing), ('I', said), ('women', feel), ('woman', playing), ('I', mean), ('they', want), ('lot', goes), ('I', think), ('I', make), ('you', know), ('I', say), ('it', takes), ('they', belong), ('boys', hang), ('company', means), ('flow', mix), ('I', used), ('I', took), ('YOLO', Hoping), ('guys', seem), ('Someone', explain), ('you', remember), ('I', guess), ('I', visit), ('that', feel), ('they', look), ('I', going), ('m', going), ('I', post), ('I', open), ('description', showing), ('I', know), ('I', scroll), ('I', want), ('world', work), ('you', think), ('you', pay), ('man', contribute), ('that', respects), ('he', wishes), ('you', expect), ('her', dole), ('she', lose), ('you', live), ('you', pay), ('You', understand), ('gt;You', go), ('you', get), ('you', make), ('you', comparing), ('that', sounds), ('nobody', stopped), ('userbase', eats), ('definition', include), ('definitions', apply), ('people', want), ('we', redefine), ('we', redefine), ('insanity', lead), ('you', believe), ('I', like), ('someone', explain), ('I', downvoted), ('world', lives), ('What', going), ('I', going), ('I', know), ('party', looks), ('I', know), ('night', looks), ('I', see), ('people', looking), ('I', love), ('I', consider), ('I', barking), ('you', give), ('he', felt), ('you', loved), ('I', say), ('m', exaggerating), ('We', done), ('I', expected), ('I', tackled), ('ve', tackled), ('We', fired), ('ve', fired), ('things', done), ('I', know), ('it', take), ('neighbors', call), ('you', witnessing), ('we', see), ('plenty', care), ('karma', care), ('which', runs), ('redditors', tend), ('you', see), ('it', falls), ('you', set), ('it', seem), ('who', care), ('Many', deserving), ('reddiquette', dictate), ('I', leave), ('You', deserved), ('who', shot), ('couch', surfing), ('people', see), ('drive', make), ('That', nauseating), ('I', wish), ('I', take), ('Costanza', wakes), ('he', find), ('He', travels), ('he', travels), ('bed', becomes), ('Movie', started), ('movie', begins), ('that', appears), ('George', approaches), ('screen', becomes), ('he', see), ('box', falls), ('it', emits), ('movie', stops), ('Elaine', wondering), ('George', awakes), ('Morrison', stood), ('George', walks), ('bed', appears), ('George', arrives), ('train', drives), ('Morrison', proclaims), ('Morrison', steps), ('it', begins), ('end', passes), ('George', notices), ('Elaine', walking), ('group', sees), ('Coroner', determines), ('I', doubt), ('it', take), ('they', look), ('they', wearing), ('someone', explain), ('i', downvoted), ('you', fucking), ('dumbasses', go), ('you', know), ('you', know), ('shit', stop), ('you', fucking), ('i', read), ('i', wait), ('i', bet), ('fucks', know), ('PBUH', include), ('NOLAN', IS), ('you', fucking), ('YOU', guess), ('i', m), ('who', think), ('who', going), ('you', wiping), ('you', keep), ('you', want), ('i', going), ('he', said), ('it', rhymes), ('that', rhymes), ('i', remember), ('him', beaing), ('riddler', likes), ('that', means), ('hitler', HAVE), ('ANY', READ), ('ivy', rhyme), ('i', know), ('i', know), ('people', fucking), ('people', whine), ('somebody', touched), ('it', takes), ('you', think), ('who', thinks), ('i', read), ('i', hope), ('you', get), ('I', thought), ('i', point), (\"ya'll\", enjoying), ('I', talking), ('I', going), ('m', going), ('I', doubt), ('this', help), ('people', come), ('it', need), ('Wilson', said), ('I', said), ('O_O', considering), ('those', feel), ('I', say), ('challenging', engaging), ('I', took), ('whatever', helps), ('you', sleep), ('You', become), ('I', decided), ('I', going), ('m', going), ('I', get), ('I', think), ('I', need), ('I', going), ('m', going), ('you', trying), ('you', trying), ('you', hit), ('I', send), ('Yes', expecting), ('I', used), ('I', took), ('I', want), ('I', want), ('I', understood), ('I', understood), ('anyone', want), ('you', banging), ('I', search), ('that', gives), ('others', agree), ('I', love), ('philosophy', sucks), ('joe_archer', goes), ('you', pay), ('Psychology', runs), ('I', work), ('you', venture), ('you', think), ('alone\"ness', showing), ('you', going), ('man', saving), ('that', exists), ('women', like), ('you', lack), ('women', want), ('everyone', wanted), ('i', know), ('they', called), ('champion', show), ('you', got), ('you', provide), ('i', know), ('etc', admit), ('you', want), ('you', high), ('FUCK', die), ('you', die), ('he', contributes), ('tired', Etch), ('you', know), ('we', try), ('she', made), ('You', make), ('me', laugh), ('I', read), ('I', trolled), ('I', going), ('you', keep), ('I', give), ('I', downvote), ('that', contains), ('I', give), ('shit', ruining), ('1', Stop), ('it', Stop), ('you', want), ('I', relate), ('type', need), ('subreddit', Stop), ('Nobody', gives), ('shit', ruining), ('it', getting), ('heart', go), ('I', encourage), ('I', say), ('You', need), ('that', changes), ('you', respond), ('You', think), ('you', going), ('it', cross), ('house', burned), ('I', ran), ('crowd', watched), ('house', burn), ('MD', shrugged), ('I', had), ('they', tell), ('it', feels), ('I', dying), ('I', tried), ('symptoms', remain), ('I', live), ('I', need), ('I', give), ('gold', find), ('CATS', ARE), ('I', USED), ('I', TOOK), ('SPACEDICKS', IS), ('JESUS', IS), ('I', aware), ('m', aware), ('name', exists), ('I', believe), ('they', appear), ('I', '), ('I', haz), ('haz', downvotes), ('one', heard), ('I', heard), ('you', re), ('hey', remember), ('you', saw), ('you', needed), ('eveyrone', go), ('fuck', talking), ('you', talking), ('I', oblige), ('you', made), ('Will_Im_Not', covered), ('one', uses), ('I', know), ('I', think), ('many', find), ('who', derives), (\"'s\", compare), ('identity', conform), ('who', associates), ('RES', save), ('I', wander), ('rest', sod), ('meat', tastes), ('I', hear), ('rape', feels), ('That', make), (\"'s\", set), ('i', make), ('chick', learned), ('she', cut), ('she', looks), ('She', changed), ('camera', looks), ('She', kept), ('I', think), ('she', raised), ('she', appeared), ('I', thought), ('things', change), ('I', guess), ('who', refuse), ('I', comment), ('who', uploaded), ('I', thinking), ('who', said), ('people', make), ('you', raise), ('I', think), ('I', guess), ('she', looks), ('idiots', gone), ('who', refuse), ('anyone', gets), ('downvoters', Keep), ('I', give), ('I', fuck), ('crap', got), ('who', put), ('they', think), ('Girls', say), ('they', like), ('they', find), ('it', makes), ('you', look), ('feelings', matter), ('that', matters), ('you', hanging), ('they', get), ('they', waste), ('girls', want), ('they', care), ('they', care), ('they', get), ('they', want), ('who', give), ('they', want), ('you', want), ('I', turned), ('you', going), ('I', met), ('ve', met), ('I', tuning), ('me', feel), ('I', guess), ('I', said), ('I', lied), ('you', care), ('you', bother), ('I', stop), ('someone', complaining), ('You', make), ('I', hallucinated), ('ve', done), ('I', felt), ('somebody', pay), ('I', think), ('who', takes), ('Gotchya', relating), ('Niggers', suck), ('I', hate), ('I', fucked), ('I', took), ('I', knew), ('I', trying), ('You', compare), ('body', exists), ('you', use), ('We', know), ('laws', cover), ('people', believe), ('I', care), ('it', exploits), ('that', supports), ('I', hate), ('I', like), ('guys', gon), ('I', meant), ('I', like), ('I', like), ('driver', deserve), ('who', perpetuate), ('I', DONT), ('I', THINK), ('DIGG', IS), ('I', agree), ('I', think), ('who', wrap), ('I', want), ('who', plays), ('boy', dare), ('I', hit), ('somebody', recommend), ('criticism', causes), ('I', stopping), ('I', think), ('I', lie), ('it', offends), ('It', entertaining), ('one', cares), ('nazis', show), ('I', understand), ('I', link), ('you', arguing), ('I', offering), ('dog', getting), ('you', think), ('I', had), ('I', go), ('I', know), ('I', think), ('he', gain), ('he', pointed), ('he', appreciate), ('I', valued), ('I', consider), ('he', called), ('jerk', fuck), ('I', found), ('ve', found), ('i', m), ('i', m), ('friend', askd), ('that', s), ('he', managed), ('me', play), ('I', thought), ('who', disses), ('you', said), ('man', attacks), ('woman', defends), ('you', understand), ('you', messaged), ('he', shared), ('you', assume), ('he', will), ('everyone', downvoting), ('people', play), ('you', show), ('they', blow), ('I', TAKE), ('You', downvote), ('you', like), ('I', thought), ('I', state), ('Beck', deserve), ('downvotes', mean), ('I', preferred), ('I', calling), ('that', gets), ('he', died), ('Imma', let), ('you', finish), ('I', recommend), ('This', help), ('she', wronged), ('mother', recognizes), ('daughter', wronged), ('I', internet), ('That', makes), ('you', care), ('you', protect), ('it', Picking), ('parents', go), ('they', send), ('dog', checked), ('who', pays), ('loser', knowing), ('rules', sign), ('people', ignore), ('they', seen), ('them', Having), ('oranges', Thank), ('I', '), ('you', say), ('I', ve), ('I', downvote), ('He', killed), ('who', trying), ('I', know), ('I', downvote), ('That', show), ('You', want), ('us', feel), ('who', working), ('I', monitoring), ('gt', turned), ('wife', sent), ('that', made), ('what', happened), ('I', know), ('I', think), ('that', happened), ('line', worked), ('you', keep), ('You', click), ('i', throwing), ('m', throwing), ('YOU', GET), ('i', told), ('i', send), ('ve', done), ('we', make), ('we', love), ('we', remain), ('people', switch), ('We', doing), ('you', want), ('I', accept), ('that', stays), ('one', knows), ('They', get), ('you', acting), ('he', abandoned), ('mom', made), ('poster', loathes), ('poster', trying), ('poster', thought), ('anyone', seen), ('You', using), ('dorothy', using), ('you', look), ('you', winning), ('Governments', murdered), ('they', took), ('you', dying), ('government', slaughtering), ('Jesus', fucking), ('I', ask), ('who', asked), ('CRAP', mentioned), ('THING', IS), ('i', read), ('I', said), ('that', helps), ('I', relate), ('he', feeling), ('things', going), ('I', sink), ('you', assumed), ('ve', assumed), ('i', loled), ('You', making), ('me', hate), ('it', hurts), ('it', hurt), ('what', gives), ('you', got), ('feelings', hurt), ('you', call), ('dogs', run), ('FTFY', Enjoy), ('He', bought), ('It', going), ('you', think), ('committee', allow), ('billions', doing), ('It', makes), ('you', wonder), ('people', fear), ('this', seems), ('what', happened), ('you', explain), ('you', comment), ('you', grow), (\"'s\", hope), ('OP', learnt), ('officer', gets), ('i', thought), ('I', understood), ('I', mean), ('you', realize), ('this', register), ('I', love), ('someone', asks), ('that', lead), ('People', seem), ('I', take), ('me', click), ('You', damn), ('fucking', believe), ('I', call), ('You', check), ('Wayyy', pimped), ('fuck', pimped), ('you', looked), ('gt;How', dare), ('someone', swear), ('thinking', pasted), ('who', enjoying), ('mom', discovers), ('I', know), ('I', live), ('CERTAINLY', PASSED), ('you', mean), ('account', created), ('that', seems), ('guy', kept), ('you', learned), ('I', bother), ('we', agree), ('I', tempted), ('m', tempted), ('you', ask), ('that', feel), ('I', feel), ('I', waited), ('it', got), ('I', imagined), ('I', feel), ('m', interfering), ('I', explain), ('I', replied), ('I', wanted), ('Dallas(which', gets), ('it', explode), ('yourself', make), ('you', give), ('Anyone', make), ('Edit', look), ('Both', signify), ('you', steal), ('you', leach), ('you', copped), ('OP', removing), ('he', tearing), ('he', sounds), ('i', Read), ('you', moron), ('I', believe), ('you', start), ('I', hope), ('guys', realise), ('I', ban), ('whoever', downvotes), ('women', expend), ('men', pay), ('one', dates), ('we', paint), ('we', want), ('that', changes), ('I', call), ('I', feel), ('arrogance', astounds), ('You', present), ('It', gets), ('It', sounds), ('I', hate), ('who', needs), ('who', destabilized), ('guys', EDIT), ('people', delete), ('it', reached), ('I', give), ('I', lived), ('ve', lived), ('relatives', tortured), ('I', seize), ('guns', solve), ('others', point), ('vote', shows), ('someone', read), ('That', means), ('uncle', raise), ('he', tries), ('he', regrets), ('gt;Or', sent), ('He', left), ('he', send), ('She', got), ('she', pays), ('He', walked), ('I', walk), ('You', would), ('life', support), ('they', wanted), ('You', tell), ('he', feel), ('you', create), ('you', start), ('you', want), ('I', say), ('man', hurt), ('who', gets), ('I', agree), ('I', mean), ('you', go), ('I', feel), ('her', hold), ('I', dealing), ('I', think), ('anyone', hurt), ('I', believe), ('someone', feels), ('I', share), ('they', attack), ('I', thought), ('I', count), ('you', coming), ('i', bet), ('work', goes), ('you', think), ('anyone', make), ('I', admire), ('you', expect), ('me', buy), ('I', mean), ('it', affecting), ('you', looking), ('people', know), ('blond', chiselled), ('she', considers), ('I', work), ('I', go), ('I', lift), ('it', make), ('abs', stand), ('guys', PM), ('I', give), ('You', cockslap), ('That', means), ('nobody', cares), ('i', taken), ('ve', taken), ('you', speak), ('we', use), ('ocd', causing), ('me', downvote), ('I', call), ('that', indicate), ('you', think), ('I', give), ('it', strained), ('She', wondering), ('I', fucking), ('I', came), ('she', came), ('guy', shows), ('le', piss), ('I', said), ('shit', retarded), ('kids', Get), ('yourself', feel), ('this', proved), ('I', done), ('who', got), ('who', signed), ('This', fucking), ('who', upvoted), ('I', posted), ('people', laugh), ('it', worked), ('faggot', ask), ('I', hate), ('brother', likes), ('I', think), ('who', believe), ('I', meant), ('afterlife', consider), ('I', think), ('you', give), ('people', give), ('you', making), ('This', come), ('I', meant), ('I', meant), ('I', think), ('xisytenin', implying), ('brother', went), ('We', mourning), ('death', celebrating), ('Holly', shit), ('I', guess), ('I', need), ('I', meant), ('I', riding), ('we', coming), ('I', like), ('I', know), ('I', give), ('friend', said), ('I', made), ('I', believe), ('he', betraded), ('guys', check), ('Edit', fucked), ('I', love), ('you', hit), ('I', want), ('you', think), ('I', want), ('I', planning), ('I', reached), ('I', tricked), ('I', wanted), ('Bitches', works), ('nobody', care), ('guy', gets), ('it', reply), ('character', express), ('Nintendo', thought), ('it', came), ('I', used), ('I', took), ('Cousins', handle), ('You', stop), ('You', making), ('fatfucks', crying), ('He', takes), ('I', seen), ('You', need), ('you', breed), ('I', deleted), ('she', follows), ('women', say), ('he', dreamed), ('you', own), ('I', created), ('you', see), ('I', ask), ('you', stay), ('This', gives), ('I', want), ('you', act), ('you', act), ('it', take), ('post', took), ('I', went), ('pug', got), ('you', justify), ('you', think), ('Admins', said), ('you', think), ('staff', interfere), ('you', think), ('we', deleted), ('We', removed), ('him', edit), ('He', deleted), ('I', going), ('m', going), ('I', know), ('You', expect), ('me', believe), ('complaining', comes), ('you', want), ('writers', ignoring), ('her', call), ('chick', unravels), ('I', love), ('you', crap), ('me', started), ('I', read), ('brigade', failed), ('I', know), ('who', gone), ('you', fucking), ('I', believe), ('child', grow), ('i', give), ('I', lost), ('I', got), ('boss', refused), ('they', found), ('I', supported), ('I', made), ('man', draw), ('who', want), ('i', think), ('getting', downvoted), ('I', know), ('I', need), ('Nobody', felt), ('I', wondering), ('I', check), ('I', thought), ('GPS', thought), ('you', adhere), ('I', remembered), ('gamers', talk), ('I', read), ('I', respond), ('I', gained), ('I', prefer), ('this', moving), ('xkcd', blows), ('that', distracts), ('edit', join), ('You', care), ('You', make), ('yourself', look), ('People', treat), ('you', wind), ('what', killed), ('He', prayed), ('I', got), ('you', click), ('you', figure), ('Reddit', works), ('wife', decided), ('her', euthanised), ('doctors', predicted), ('she', lose), ('pain', increase), ('we', decided), ('human', experience), ('i', m), ('you', lose), ('you', want), ('who', shared), ('I', see), ('I', see), ('I', see), ('they', eat), ('I', see), ('I', live), ('Some', claimed), ('I', walking), ('who', thinks), ('atheists', helped), ('that', prohibit), ('anyone', challenged), ('you', tell), ('I', understand), ('You', see), ('people', make), ('people', understand), ('That', help), ('That', pushes), ('that', causes), ('people', claim), ('we', understand), ('we', draw), ('we', imagine), ('ground', give), ('you', understand), ('I', understand), ('You', know), ('you', call), ('I', find), ('I', hear), ('I', apologize), ('I', said), ('ve', said), ('people', download), ('That', solve), ('I', THINK), ('they', know), ('Activision', know), ('He', replied), ('I', heard), ('ve', heard), ('I', hope), ('I', hope), ('I', use), ('I', forgot), ('we', looked), ('we', found), ('You', mistaking), ('that', had), ('Bush', knows), ('who', take), ('I', know), ('they', thought), ('they', died), ('I', go), ('I', love), ('I', guess), ('you', know), ('who', mistook), ('you', mommy), ('they', freak), ('Wife', left), ('he', feels), ('points', enjoy), ('she', left), ('you', left), ('you', feel), ('I', bet), ('it', make), (\"'s\", try), ('word', apply), ('sister', gets), ('you', can), ('grade', coming), ('systems', exist), ('I', touched), ('ve', touched), ('retards', Think), ('OP', put), ('I', think), ('you', hit), ('faction', crying), ('Who', said), ('I', thought), ('others', thought), ('I', completed), ('ve', completed), ('people', got), ('that', saw), ('it', got), ('someone', says), ('what', happen), ('everyone', know), ('everyone', fills), ('you', want), ('you', need), ('you', failed), ('you', read), ('Reddit', likes), ('people', liked), ('I', know), ('I', studied), (\"I'v\", studied), ('I', went), ('I', get), ('I', COULDNT), ('COULDNT', FIND), ('I', SAW), ('I', FOUND), (\"I'M\", HOPING), ('ACCOMPLISHMENT', THANK), ('OP', IS), ('THAT', PAINT), ('WOULDNT', HAVE), ('u', think), ('dogs.dogs', shit), ('i', remember), ('it', smelt), ('who', like), ('taht', sniff), ('i', think), ('Nobody', changed), ('you', improve), ('post', going), ('you', stop), ('Look', go), ('we', needed), ('I', gon), ('m', gon), ('gon', post), ('we', got), ('I', m), ('We', started), ('he', walk), ('we', walked), ('I', noticed), ('He', playing), ('He', gotten), ('One', snatched), ('we', knew), ('friend', handed), ('I', smash), ('I', looked), ('he', look), ('I', felt), ('He', trying), ('I', back), ('I', gave), ('It', ruin), ('I', threw), ('I', having), ('I', ended), ('I', glanced), ('He', looked), ('I', care), ('We', walked), ('I', looked), ('he', sitting), ('He', shaking), ('I', assume), ('i', m), ('he', tried), ('He', ran), ('He', stand), ('We', beat), ('He', transferred), ('he', speak), ('He', stared), ('dumbass', gives), ('they', sell), ('they', take), ('i', like), ('you', want), ('you', looking), ('employees', left), ('I', wake), ('I', empty), ('That', sounds), ('apologist', say), ('she', likes), ('You', going), ('you', bring), ('I', care), ('everyone', Downvote), ('YOU', BROKE), ('I', SIED), ('people', Highjacking), ('you', grasping), ('You', think), ('It', HAPPENS), ('he', leaves), ('he', tries), ('You', make), ('Douglas', played), ('you', told), ('he', google), ('he', know), ('he', ended), ('I', hate), ('I', help), ('I', read), ('ve', read), ('religion', includes), ('lives', include), ('atheism', means), ('norm', includes), ('I', apologize), ('I', going), ('mind', trying), ('meh', Go), ('I', guess), ('I', care), ('I', think), ('story', deserves), ('it', deserves), ('I', beg), ('You', play), ('we', get), ('job', done), ('I', mean), ('women', tend), ('who', like), ('who', like), ('that', happen), ('You', predicted), ('you', go), ('she', died), ('you', banned), ('you', miss), ('procedures', make), ('those', attempt), ('I', arguing), ('I', know), ('Reddit', tends), ('m', questioning), ('everyone', seems), ('you', go), ('they', keep), ('I', guess), ('I', downvote), ('Nobody', cares), ('moore', say), ('comment', Let), ('me', fix), ('You', prefer), ('that', turned), ('girls', pissing), ('you', want), ('you', want), ('I', told), ('ve', told), ('you', spent), ('ve', spent), ('paintings', justify), ('everyone', hate), ('I', think), ('I', think), ('you', see), ('you', think), ('I', want), ('I', wonder), ('Which', worked), ('you', dare), ('You', practice), ('You', impose), ('someone', breaking), ('I', wondering), ('you', seem), ('you', speak), ('I', saying), ('it', sound), ('brigade', came), ('WE', GET), ('Something', happened), ('teacher', took), ('I', started), ('STOP', HURTING), ('I', used), ('noises', asked), ('I', think), ('Security', came), ('me', bleeding), ('I', told), ('She', kept), ('they', believe), ('they', sent), ('she', took), ('ve', fired), ('she', came), ('I', press), ('I', add), ('Nobody', learned), ('most', hated), ('anything', done), ('bitchyness', matter), ('I', used), ('I', took), ('Someone', cutting), ('guns', get), ('I', disagree), (\"'s\", try), ('I', AM), ('Go', suck), ('psychology', work), ('you', spent), ('I', explain), ('mods', take), ('they', like), ('I', give), ('PEOPLE', ARE), ('I', threatening), ('I', cut), ('you', fucked), ('that', continue), ('outright', lies), ('We', mod), ('that', makes), ('I', believe), ('it', holds), ('We', launch), ('content', continues), ('you', blame), ('I', see), ('you', spilling), ('This', reading), ('I', like), ('I', realized), ('I', need), ('people', see), ('you', proven), ('ve', proven), ('you', going), ('Nasty', trying), ('me', feel), ('opposite', happened), ('I', hoped), ('I', live), ('I', tack), ('I', wish), ('dad', disconnected), ('he', done), ('I', watched), ('lemme', say), ('OP', want), ('I', wondering), ('Administrators', let), ('us', make), ('what', makes), ('I', like), (\"'s\", smile), ('conversations', happen), ('you', tell), ('you', switching), ('It', smacks), ('who', express), ('I', post), ('I', care), ('people', take), ('it', bothers), ('I', post), ('I', get), ('it', make), ('you', crying), ('you', take), ('It', telling), ('he', wants), ('people', listen), ('he', needs), ('people', respect), ('You', explained), ('you', like), ('You', re), ('joke', Think), ('you', post), ('fuck', downvotes), ('Xmen', loving), ('you', idoits), ('sorry', joined), ('I', thought), ('I', SaID), ('I', WAS), ('you', stop), ('i', care), ('I', said), ('you', delete), ('i', learned), ('ve', learned), ('you', delete), ('everyones', downvoting), ('i', said), ('i', trying), ('I', learned), ('ve', learned), ('lesson', SORRY), ('i', want), ('i', said), ('you', mean), ('guys', stop), ('who', told), ('guys', stop), ('I', believe), ('I', mentioned), ('I', said), ('they', got), ('you', hate), ('you', know), ('dollars', contribute), ('you', examine), ('you', hope), ('I', say), ('bomber', asking), ('he', blew), ('I', talking), ('people', downvoting), ('you', hit), ('Someone', get), ('fool', got), ('OOoooh', looks), ('you', Reverse), ('bro', Reverse), ('it', got), ('I', like), ('patriarchy', hurts), ('I', hope), ('I', count), ('it', implies), ('you', experience), ('you', like), ('you', quit), ('you', can), ('you', reach), ('you', lick), ('You', re), ('someone', look), ('you', kidding), ('you', want), ('stars', Grow), ('dude', messed), ('You', going), ('He', believes), ('he', believes), ('he', joke), ('you', tell), ('Reddit', encourages), ('I', know), ('I', know), ('you', enjoy), ('I', know), ('person', deserve), ('I', know), ('who', gives), ('me', calling), ('I', get), ('I', know), ('they', downvote), ('anyone', downvoted), ('you', think), ('I', watching), ('Better', Call), ('peeps', watch), ('it', going), ('I', hope), ('it', gets), ('I', hope), ('this', going), ('I', liked), ('they', going), ('ve', watched), ('I', hope), ('Saul', lives), ('You', know), ('I', hit), ('I', try), ('me', insulting), ('Some', call), ('I', find), ('you', mastered), ('ve', mastered), ('you', know), ('insults', insulting), ('person', wants), ('who', receives), ('they', going), ('I', say), ('I', walk), ('you', take), ('You', say), ('it', would), ('you', ignored), ('Humans', go), ('you', stay), ('you', love), ('you', take), ('impulses', doing), ('you', like), ('people', value), ('I', stole), ('you', calling), ('you', K), ('that', going), ('you', read), ('You', read), ('you', understand), ('I', type), ('I', laugh), ('you', Baaaaah), ('I', need), ('you', got), ('you', summoned), ('it', translates), ('it', appears), ('it', spammed), ('I', guess), ('jayboyevo', read), ('me', guess), ('people', keep), ('You', making), ('You', got), ('comments', said), ('I', mean), ('I', thought), ('someone', bother), ('I', bet), ('you', wasting), ('guy', go), ('you', care), ('you', know), ('guy', going), ('Lol', Shout), ('comments', shout), ('guys', know), ('it', says), ('this', coincides), ('which', transforms), ('Weizenbaum', developed), ('they', talking), ('I', anger), ('I', remember), ('I', see), ('falcon', fly), ('I', get), ('I', admit), ('I', get), ('it', Grow), ('they', make), ('you', nieve), ('GIFTS', remains), ('I', drank), ('I', caught), ('I', learned), ('We', stop), ('I', realize), ('rest', edit), ('I', post), ('I', offered), ('choosing', said), ('I', deliver), ('we', wait), ('I', draw), ('vaasi', requested), ('I', disappoint), ('she', used), ('she', drinking), ('I', providing), ('You', realize), ('I', found](http://bunnika.wordpress.com/2011/07/09), ('who', hate), ('who', hates), ('n’t', want), ('dad', doubt), ('it', happen), ('Lots', happen), ('that', mean), ('view', seen), ('that', cared), ('who', afford), ('brother', working), ('i', thought), ('who', knew), ('i', recommend), ('she', makes), ('it', works), ('m', assuming), ('everyone', know), ('you', telling), ('he', killed), ('I', know), ('you', asked), ('who', asked), ('we', know), ('you', listen), ('i', playing), ('voice', says), ('quote', Listen), ('you', know), ('it', sounds), ('That', leaves), ('comment', talking), ('I', trying), ('I', see), ('it', came), ('I', going), ('I', find), ('I', guess), ('I', got), ('haha', took), ('reddit', calling), ('who', drives), ('someone', eats), ('ve', got), ('slip', make), ('you', crash), ('I', lmao), ('YOU', NEED), ('you', start), ('you', sound), ('jesus', grow), ('LOOOK', Create), ('This', includes), ('they', say), ('I', provided), ('You', know), ('I', hate), ('I', opened), ('who', loves), ('I', give), ('I', understand), ('everyone', loves), ('she', played), ('everyone', fell), ('she', put), ('we', fucking), ('who', say), ('lmao', expect), ('people', expect), ('fucks', edit2), ('I', start), ('dank', mays), ('i', say), ('that', s), ('you', re), ('Who', want), ('karma', consider), ('that', make), ('me', feel), ('I', wearing), ('them', come), ('everyone', sees), ('these', built), ('who', wanted), ('soul', wanders), ('that', keeps), ('I', dream), ('I', commited), ('karma', caught), ('i', fucking), ('They', won), ('I', received), ('ve', received), ('you', made), ('I', received), ('ve', received), ('I', said), ('it', warranted), ('anyone', sees), ('someone', use), ('it', knowing), ('they', receive), ('people', know), ('who', see), ('this', know), ('they', make), ('they', invested), ('perm', banned), ('I', manage), ('nobody', repeats), ('someone', calls), ('designer', means), ('they', know), ('I', spent), ('understanding', mean), ('it', applies), ('they', say), ('it', makes), ('I', got), ('laymen', voted), ('I', thought), ('I', know), ('they', destroy), ('I', fooled), ('I', die), ('I', staying), ('she', done), ('you', mean), ('she', done), ('it', stop), ('u', put), ('u', try), ('they', brake), ('u', get), ('that', get), ('u', get), ('she', wanted), ('i', dun), ('we', pretend), ('I', used), ('I', took), ('you', learn), ('that', holds), ('30', edit), ('I', see), ('haters', gon), ('life', grow), ('you', build), ('boys', edit), ('closed', find), ('that', whore), ('You', sound)]\n"
     ]
    }
   ],
   "source": [
    "from spacy import displacy\n",
    "from spacy.symbols import nsubj, VERB, NOUN, prep, dobj\n",
    "doc = nlp(' '.join(df['tokenized_text'].sum()))\n",
    "verbs = []\n",
    "for possible_subject in doc:\n",
    "    if possible_subject.dep == nsubj and possible_subject.head.pos == VERB:\n",
    "        verbs.append((possible_subject.text, possible_subject.head))\n",
    "print(verbs)"
   ]
  },
  {
   "cell_type": "code",
   "execution_count": 174,
   "metadata": {},
   "outputs": [
    {
     "name": "stdout",
     "output_type": "stream",
     "text": [
      "play Diablo\n",
      "play Working\n",
      "play dungerons\n",
      "play game\n",
      "play Life\n"
     ]
    }
   ],
   "source": [
    "for chunk in doc:\n",
    "    if chunk.dep == dobj and chunk.head.pos == VERB:\n",
    "        if chunk.head.text == 'play':\n",
    "            print(chunk.head.text, chunk.text)"
   ]
  },
  {
   "cell_type": "code",
   "execution_count": 176,
   "metadata": {},
   "outputs": [
    {
     "name": "stdout",
     "output_type": "stream",
     "text": [
      "need attention\n",
      "need verification\n",
      "need alternative\n",
      "need penis\n",
      "need pill\n"
     ]
    }
   ],
   "source": [
    "for chunk in doc:\n",
    "    if chunk.dep == dobj and chunk.head.pos == VERB:\n",
    "        if chunk.head.text == 'need':\n",
    "            print(chunk.head.text, chunk.text)"
   ]
  },
  {
   "cell_type": "code",
   "execution_count": 179,
   "metadata": {},
   "outputs": [
    {
     "name": "stdout",
     "output_type": "stream",
     "text": [
      "of standard\n",
      "of way\n",
      "at look\n",
      "of result\n",
      "about questions\n",
      "on focus\n",
      "about one\n",
      "with time\n",
      "per ads\n",
      "of end\n",
      "of point\n",
      "of jokes\n",
      "of top\n",
      "of pieces\n",
      "in pieces\n",
      "about fuck\n",
      "with man\n",
      "behind box\n",
      "for comments\n",
      "to comment\n",
      "of quarter\n",
      "for points\n",
      "in messy\n",
      "for shade\n",
      "to girl\n",
      "for girl\n",
      "like subreddit\n",
      "for compliments\n",
      "of point\n",
      "of pic\n",
      "for coffee\n",
      "on one\n",
      "with way\n",
      "of technology\n",
      "of page\n",
      "In relationship\n",
      "between gap\n",
      "due gap\n",
      "against discrimination\n",
      "in mothers\n",
      "against protection\n",
      "for discrimination\n",
      "of lot\n",
      "in norm\n",
      "of circle\n",
      "to contributes\n",
      "of way\n",
      "about care\n",
      "of lot\n",
      "about thing\n",
      "with person\n",
      "between difference\n",
      "of hordes\n",
      "of evidence\n",
      "of bit\n",
      "from job\n",
      "on job\n",
      "of father\n",
      "of heat\n",
      "of lot\n",
      "than males\n",
      "of flow\n",
      "with flow\n",
      "of slew\n",
      "of kind\n",
      "from guys\n",
      "inside dick\n",
      "out m\n",
      "on loop\n",
      "of bunch\n",
      "in job\n",
      "in chattle\n",
      "for payment\n",
      "for slur\n",
      "of implications\n",
      "on people\n",
      "of picture\n",
      "like posts\n",
      "of definition\n",
      "of kinds\n",
      "like things\n",
      "for desire\n",
      "of sense\n",
      "of group\n",
      "like adults\n",
      "to attraction\n",
      "with males\n",
      "of amounts\n",
      "of idea\n",
      "of peers\n",
      "of slaughter\n",
      "in orgies\n",
      "off shots\n",
      "in singers\n",
      "at years\n",
      "in house\n",
      "of lot\n",
      "about things\n",
      "of plenty\n",
      "of lot\n",
      "at mentality\n",
      "of idea\n",
      "about care\n",
      "of number\n",
      "of examples\n",
      "of state\n",
      "for shit\n",
      "of end\n",
      "of page\n",
      "of use\n",
      "of hundreds\n",
      "to announces\n",
      "of flight\n",
      "of streets\n",
      "of foot\n",
      "of end\n",
      "of end\n",
      "on ball\n",
      "behind alley\n",
      "in body\n",
      "to wound\n",
      "of coming\n",
      "in character\n",
      "in immerses\n",
      "of whale\n",
      "for reason\n",
      "on dumbasses\n",
      "about shit\n",
      "about shit\n",
      "at shitheads\n",
      "of end\n",
      "like weather\n",
      "in weather\n",
      "like people\n",
      "to tattletale\n",
      "of taste\n",
      "in center\n",
      "of shortage\n",
      "for questions\n",
      "of point\n",
      "of part\n",
      "on place\n",
      "on post\n",
      "like people\n",
      "on friend\n",
      "of suggestion\n",
      "like medication\n",
      "in center\n",
      "in gift\n",
      "of existence\n",
      "of Call\n",
      "for chub\n",
      "of type\n",
      "of issue\n",
      "in m\n",
      "of knowledge\n",
      "in improvement\n",
      "of part\n",
      "like ideas\n",
      "of degradation\n",
      "for paints\n",
      "with films\n",
      "of virtue\n",
      "of power\n",
      "from reposts\n",
      "of types\n",
      "with comments\n",
      "to answer\n",
      "of piece\n",
      "of crowd\n",
      "of crowd\n",
      "to trips\n",
      "of list\n",
      "OF BAG\n",
      "TO ARROW\n",
      "in concept\n",
      "in kid\n",
      "of group\n",
      "of generalization\n",
      "of group\n",
      "like words\n",
      "of notions\n",
      "with people\n",
      "of rest\n",
      "about stuff\n",
      "for stop\n",
      "about thing\n",
      "of improvement\n",
      "of level\n",
      "of bunch\n",
      "of appearance\n",
      "of pictures\n",
      "of bunch\n",
      "of bunch\n",
      "about standards\n",
      "of end\n",
      "around upvote\n",
      "of line\n",
      "like company\n",
      "of sight\n",
      "of rest\n",
      "like comments\n",
      "to m\n",
      "to link\n",
      "against discrimination\n",
      "of form\n",
      "with problem\n",
      "for vote\n",
      "on appearance\n",
      "for cookies\n",
      "to regards\n",
      "on dog\n",
      "for dog\n",
      "for game\n",
      "on attack\n",
      "with offer\n",
      "To drives\n",
      "to right\n",
      "for Thanks\n",
      "of son\n",
      "of lot\n",
      "for time\n",
      "on years\n",
      "of parity\n",
      "for procedure\n",
      "of middle\n",
      "in loser\n",
      "of loser\n",
      "in child\n",
      "of lot\n",
      "with experience\n",
      "for sympathy\n",
      "to way\n",
      "of kind\n",
      "by moonie\n",
      "of part\n",
      "of chunk\n",
      "of line\n",
      "on comment\n",
      "TO USED\n",
      "of lot\n",
      "with service\n",
      "of lot\n",
      "like features\n",
      "with works\n",
      "to race\n",
      "of spectrum\n",
      "than eyeliner\n",
      "of MILLION\n",
      "to danger\n",
      "of chance\n",
      "OF CAUSE\n",
      "IN CAUSE\n",
      "OF character\n",
      "for explanation\n",
      "in penis\n",
      "of love\n",
      "of bunch\n",
      "of pools\n",
      "in pools\n",
      "of consequences\n",
      "in committee\n",
      "of existence\n",
      "of billions\n",
      "for scumbag\n",
      "for raise\n",
      "Of radar\n",
      "on m\n",
      "in hos\n",
      "from comment\n",
      "of thinking\n",
      "like language\n",
      "for issue\n",
      "of majority\n",
      "for upvote\n",
      "on lesson\n",
      "of IQ\n",
      "on subreddit\n",
      "for apologies\n",
      "of lot\n",
      "of happiness\n",
      "for reasoning\n",
      "on points\n",
      "of lack\n",
      "from paneling\n",
      "of copy\n",
      "like shit\n",
      "from post\n",
      "of amount\n",
      "for amount\n",
      "for candidate\n",
      "for reasons\n",
      "of use\n",
      "than dictatorship\n",
      "of years\n",
      "of centuries\n",
      "to stranger\n",
      "with contact\n",
      "of sound\n",
      "of job\n",
      "of plenty\n",
      "in punch\n",
      "of sort\n",
      "for hate\n",
      "on trick\n",
      "on congratulations\n",
      "in freezer\n",
      "of block\n",
      "with job\n",
      "from m\n",
      "of type\n",
      "about shit\n",
      "of banality\n",
      "for credit\n",
      "about jokes\n",
      "to disrespect\n",
      "between room\n",
      "in car\n",
      "of front\n",
      "for thanks\n",
      "at laughing\n",
      "at attempt\n",
      "at chance\n",
      "of supply\n",
      "on jokes\n",
      "of guy\n",
      "of span\n",
      "to shoutout\n",
      "to addition\n",
      "on mansplaining\n",
      "of meanings\n",
      "on expert\n",
      "with expert\n",
      "above complex\n",
      "to access\n",
      "with comment\n",
      "to guide\n",
      "like decisions\n",
      "on opinion\n",
      "of continuity\n",
      "with problem\n",
      "for replacement\n",
      "amongst dignity\n",
      "of part\n",
      "with surveys\n",
      "like lines\n",
      "of piece\n",
      "from statements\n",
      "with freak\n",
      "of existence\n",
      "of campaign\n",
      "of stinks\n",
      "of case\n",
      "over control\n",
      "for help\n",
      "for reason\n",
      "to reason\n",
      "out reason\n",
      "for reason\n",
      "for knack\n",
      "including internet\n",
      "of picture\n",
      "of majority\n",
      "on news\n",
      "of account\n",
      "of lack\n",
      "of shitstorm\n",
      "in representative\n",
      "on laws\n",
      "like people\n",
      "like people\n",
      "of discrimination\n",
      "like people\n",
      "as group\n",
      "like people\n",
      "from frustration\n",
      "for path\n",
      "for path\n",
      "of front\n",
      "to link\n",
      "of name\n",
      "like language\n",
      "with friends\n",
      "on shits\n",
      "of memory\n",
      "except death\n",
      "of character\n",
      "for situation\n",
      "of rest\n",
      "in flying\n",
      "down meaningless\n",
      "with spot\n",
      "of faction\n",
      "behind story\n",
      "of opposite\n",
      "of gatekeeper\n",
      "in neuroscience\n",
      "from downvotes\n",
      "of top\n",
      "at count\n",
      "for downvotes\n",
      "with opinions\n",
      "on man\n",
      "of group\n",
      "around people\n",
      "of sort\n",
      "on sort\n",
      "of element\n",
      "of end\n",
      "of front\n",
      "for diablo\n",
      "vs mcdonald\n",
      "over price\n",
      "For shit\n",
      "for sympathy\n",
      "of waste\n",
      "of months\n",
      "of kind\n",
      "in comment\n",
      "like gems\n",
      "of patting\n",
      "on back\n",
      "of dying\n",
      "for dying\n",
      "like atheism\n",
      "of lives\n",
      "of disbelief\n",
      "of lot\n",
      "on lot\n",
      "of way\n",
      "on olds\n",
      "of talk\n",
      "of planners\n",
      "of None\n",
      "with comment\n",
      "for reasons\n",
      "of topic\n",
      "on faith\n",
      "of remnant\n",
      "of assurances\n",
      "in par\n",
      "in use\n",
      "like use\n",
      "of sort\n",
      "down sort\n",
      "of danger\n",
      "with qualms\n",
      "in time\n",
      "over tears\n",
      "of mods\n",
      "to access\n",
      "for knowledge\n",
      "as traffic\n",
      "of opposite\n",
      "of gif\n",
      "of entirety\n",
      "of perspective\n",
      "to changes\n",
      "of deflation\n",
      "for pomposity\n",
      "about Talk\n",
      "of level\n",
      "as shit\n",
      "of grasp\n",
      "on people\n",
      "of bunch\n",
      "for comments\n",
      "of campaign\n",
      "in campaign\n",
      "of policies\n",
      "to directions\n",
      "of focus\n",
      "of oppression\n",
      "in aspect\n",
      "on sexism\n",
      "with problem\n",
      "of oppression\n",
      "of jimmies\n",
      "in downvote\n",
      "at poverty\n",
      "of millions\n",
      "of type\n",
      "through way\n",
      "of skills\n",
      "with word\n",
      "of impulse\n",
      "of side\n",
      "of weakness\n",
      "of brigade\n",
      "of sense\n",
      "than example\n",
      "of lack\n",
      "with guy\n",
      "about joke\n",
      "on condom\n",
      "with men\n",
      "for comments\n",
      "with responds\n",
      "of behaviour\n",
      "of pose\n",
      "with person\n",
      "of time\n",
      "like break\n",
      "above meme\n",
      "of rest\n",
      "of picture\n",
      "of choosing\n",
      "of hands\n",
      "below comment\n",
      "from home\n",
      "for sack\n",
      "for impression\n",
      "for love\n",
      "of mysteries\n",
      "of Lots\n",
      "of view\n",
      "at thing\n",
      "in people\n",
      "as aggregate\n",
      "for Thanks\n",
      "of wrath\n",
      "of fans\n",
      "on comment\n",
      "like slip\n",
      "above guy\n",
      "against brigades\n",
      "on kid\n",
      "of pages\n",
      "about F\n",
      "with love\n",
      "of plenty\n",
      "in proof\n",
      "on people\n",
      "for record\n",
      "of photo\n",
      "of repost\n",
      "of friend\n",
      "to day\n",
      "from rest\n",
      "of anonymity\n",
      "of part\n",
      "of rest\n",
      "of souls\n",
      "of shell\n",
      "in round\n",
      "of rest\n",
      "of scouts\n",
      "of lot\n",
      "from answers\n",
      "with go\n",
      "in remarks\n",
      "like remark\n",
      "for punishment\n",
      "on consensus\n",
      "at joke\n",
      "to joke\n",
      "of level\n",
      "in sense\n",
      "of sense\n",
      "of world\n",
      "on shapes\n",
      "to regards\n",
      "of rules\n",
      "of sort\n",
      "of captain\n",
      "without ok\n",
      "inside eggs\n",
      "in airplanes\n",
      "of rest\n"
     ]
    }
   ],
   "source": [
    "for chunk in doc:\n",
    "    if chunk.dep == prep and chunk.head.pos == NOUN:\n",
    "        if chunk.head.text:\n",
    "            print(chunk.text, chunk.head.text)"
   ]
  },
  {
   "cell_type": "code",
   "execution_count": 180,
   "metadata": {},
   "outputs": [
    {
     "name": "stdout",
     "output_type": "stream",
     "text": [
      "Na intj 0 0 ['hate']\n"
     ]
    }
   ],
   "source": [
    "root = [token for token in doc if token.head == token][0]\n",
    "subject = list(root.lefts)[0]\n",
    "for descendant in subject.subtree:\n",
    "    assert subject is descendant or subject.is_ancestor(descendant)\n",
    "    print(descendant.text, descendant.dep_, descendant.n_lefts,\n",
    "            descendant.n_rights,\n",
    "            [ancestor.text for ancestor in descendant.ancestors])"
   ]
  },
  {
   "cell_type": "markdown",
   "metadata": {},
   "source": [
    "Considering that this dataset is about comments on Reddit which at most are composed of colloquial expressions, or even some dirty and emotional expressions. Thus, this quality leads to the fact that it mainly includes simple phrase structure and seldom subordinate clauses. In these parses, unsurprisingly, I find the prevalent existence of dirty or even politically incorrect language in those comments, which shows a severe lack of respect and understanding for the users pertaining to those biased comments, which leads to the large number of their downvotes."
   ]
  },
  {
   "cell_type": "markdown",
   "metadata": {},
   "source": [
    "## <span style=\"color:red\">*Exercise 6*</span>\n",
    "\n",
    "<span style=\"color:red\">Construct cells immediately below this that calculate the KL and $\\chi^2$ divergences, and the KS and Wasserstein distances between four separate corpora, plot these with heatmaps, and then array them in two dimensions with multidimensional scaling as above. What does this reveal about relations between the corpora? Which analysis (and divergence or distribution) distinguishes the authors or documents better? \n",
    "\n",
    "<span style=\"color:red\">**Stretch**: Calculate the <a \"href=https://en.wikipedia.org/wiki/Jensen–Shannon_divergence\" target=\"_blank\">Jensen-Shannon Divergence</a> between your four corpora. What is the relationship between the KL and JS divergences?</span> "
   ]
  },
  {
   "cell_type": "code",
   "execution_count": 4,
   "metadata": {},
   "outputs": [],
   "source": [
    "df = pd.read_csv('E:/Content Analysis/comments_negative.csv')\n",
    "df_2 = df[-500:]\n",
    "df = df[:500]"
   ]
  },
  {
   "cell_type": "code",
   "execution_count": 3,
   "metadata": {},
   "outputs": [],
   "source": [
    "df_ = pd.read_csv('E:/Content Analysis/comments_positive.csv')\n",
    "df_3 = df_[:500]\n",
    "df_4 = df_[-500:]"
   ]
  },
  {
   "cell_type": "code",
   "execution_count": 12,
   "metadata": {},
   "outputs": [],
   "source": [
    "df['tokenized_text'] = df['text'].apply(lambda x: word_tokenize(x))\n",
    "df_2['tokenized_text'] = df_2['text'].apply(lambda x: word_tokenize(x))\n",
    "df_3['tokenized_text'] = df_3['text'].apply(lambda x: word_tokenize(x))\n",
    "df_4['tokenized_text'] = df_4['text'].apply(lambda x: word_tokenize(x))"
   ]
  },
  {
   "cell_type": "code",
   "execution_count": 13,
   "metadata": {},
   "outputs": [],
   "source": [
    "import nltk\n",
    "def kl_divergence(X, Y):\n",
    "    P = X.copy()\n",
    "    Q = Y.copy()\n",
    "    P.columns = ['P']\n",
    "    Q.columns = ['Q']\n",
    "    df = Q.join(P).fillna(0)\n",
    "    p = df.iloc[:,1]\n",
    "    q = df.iloc[:,0]\n",
    "    D_kl = scipy.stats.entropy(p, q)\n",
    "    return D_kl\n",
    "\n",
    "def chi2_divergence(X, Y):\n",
    "    P = X.copy()\n",
    "    Q = Y.copy()\n",
    "    P.columns = ['P']\n",
    "    Q.columns = ['Q']\n",
    "    df = Q.join(P).fillna(0)\n",
    "    p = df.iloc[:,1]\n",
    "    q = df.iloc[:,0]\n",
    "    return scipy.stats.chisquare(p, q).statistic\n",
    "\n",
    "def js_divergence(X, Y):\n",
    "    P = X.copy()\n",
    "    Q = Y.copy()\n",
    "    P.columns = ['P']\n",
    "    Q.columns = ['Q']\n",
    "    df = Q.join(P).fillna(0)\n",
    "    p = df.iloc[:,1]\n",
    "    q = df.iloc[:,0]\n",
    "    return scipy.spatial.distance.jensenshannon(p, q)\n",
    "    \n",
    "def Divergence(corpus1, corpus2, difference=\"KL\"):\n",
    "    freqP = nltk.FreqDist(corpus1)\n",
    "    P = pd.DataFrame(list(freqP.values()), columns = ['frequency'], index = list(freqP.keys()))\n",
    "    freqQ = nltk.FreqDist(corpus2)\n",
    "    Q = pd.DataFrame(list(freqQ.values()), columns = ['frequency'], index = list(freqQ.keys()))\n",
    "    if difference == \"KL\":\n",
    "        return kl_divergence(P, Q)\n",
    "    elif difference == \"Chi2\":\n",
    "        return chi2_divergence(P, Q)\n",
    "    elif difference == \"JS\":\n",
    "        return js_divergence(P, Q)\n",
    "    elif difference == \"KS\":\n",
    "        try:\n",
    "            return scipy.stats.ks_2samp(P['frequency'], Q['frequency']).statistic\n",
    "        except:\n",
    "            return scipy.stats.ks_2samp(P['frequency'], Q['frequency'])\n",
    "    elif difference == \"Wasserstein\":\n",
    "        try:\n",
    "            return scipy.stats.wasserstein_distance(P['frequency'], Q['frequency'], u_weights=None, v_weights=None).statistic\n",
    "        except:\n",
    "            return scipy.stats.wasserstein_distance(P['frequency'], Q['frequency'], u_weights=None, v_weights=None)"
   ]
  },
  {
   "cell_type": "code",
   "execution_count": null,
   "metadata": {},
   "outputs": [],
   "source": [
    "corpora = [df['tokenized_text'].sum(), df_2['tokenized_text'].sum(), df_3['tokenized_text'].sum(), df_4['tokenized_text'].sum()]\n",
    "fileids = ['negative_early', 'negative_late', 'positive_early', 'positive_late']"
   ]
  },
  {
   "cell_type": "code",
   "execution_count": 19,
   "metadata": {},
   "outputs": [
    {
     "data": {
      "image/png": "[encoded data removed]",
      "text/plain": [
       "<Figure size 432x288 with 2 Axes>"
      ]
     },
     "metadata": {
      "needs_background": "light"
     },
     "output_type": "display_data"
    }
   ],
   "source": [
    "L = []\n",
    "for p in corpora:\n",
    "    l = []\n",
    "    for q in corpora:\n",
    "        l.append(Divergence(p,q, difference='KL'))\n",
    "    L.append(l)\n",
    "M = np.array(L)\n",
    "fig = plt.figure()\n",
    "div = pd.DataFrame(M, columns = fileids, index = fileids)\n",
    "ax = sns.heatmap(div)\n",
    "plt.show()"
   ]
  },
  {
   "cell_type": "code",
   "execution_count": 20,
   "metadata": {},
   "outputs": [
    {
     "name": "stderr",
     "output_type": "stream",
     "text": [
      "S:\\Python-64\\lib\\site-packages\\sklearn\\manifold\\_mds.py:419: UserWarning: The MDS API has changed. ``fit`` now constructs an dissimilarity matrix from data. To use a custom dissimilarity matrix, set ``dissimilarity='precomputed'``.\n",
      "  warnings.warn(\"The MDS API has changed. ``fit`` now constructs an\"\n"
     ]
    },
    {
     "data": {
      "image/png": "[encoded data removed]",
      "text/plain": [
       "<Figure size 432x432 with 1 Axes>"
      ]
     },
     "metadata": {
      "needs_background": "light"
     },
     "output_type": "display_data"
    }
   ],
   "source": [
    "mds = sklearn.manifold.MDS()\n",
    "pos = mds.fit(M).embedding_\n",
    "x = pos[:,0]\n",
    "y = pos[:,1]\n",
    "fig, ax = plt.subplots(figsize = (6,6))\n",
    "plt.plot(x, y, ' ')\n",
    "for i, txt in enumerate(fileids):\n",
    "    ax.annotate(txt, (x[i],y[i]))"
   ]
  },
  {
   "cell_type": "code",
   "execution_count": 21,
   "metadata": {},
   "outputs": [
    {
     "data": {
      "image/png": "[encoded data removed]",
      "text/plain": [
       "<Figure size 432x288 with 2 Axes>"
      ]
     },
     "metadata": {
      "needs_background": "light"
     },
     "output_type": "display_data"
    }
   ],
   "source": [
    "L = []\n",
    "for p in corpora:\n",
    "    l = []\n",
    "    for q in corpora:\n",
    "        l.append(Divergence(p,q, difference='Chi2'))\n",
    "    L.append(l)\n",
    "M = np.array(L)\n",
    "fig = plt.figure()\n",
    "div = pd.DataFrame(M, columns = fileids, index = fileids)\n",
    "ax = sns.heatmap(div)\n",
    "plt.show()"
   ]
  },
  {
   "cell_type": "code",
   "execution_count": 22,
   "metadata": {},
   "outputs": [
    {
     "name": "stderr",
     "output_type": "stream",
     "text": [
      "S:\\Python-64\\lib\\site-packages\\sklearn\\manifold\\_mds.py:419: UserWarning: The MDS API has changed. ``fit`` now constructs an dissimilarity matrix from data. To use a custom dissimilarity matrix, set ``dissimilarity='precomputed'``.\n",
      "  warnings.warn(\"The MDS API has changed. ``fit`` now constructs an\"\n"
     ]
    },
    {
     "data": {
      "image/png": "[encoded data removed]",
      "text/plain": [
       "<Figure size 432x432 with 1 Axes>"
      ]
     },
     "metadata": {
      "needs_background": "light"
     },
     "output_type": "display_data"
    }
   ],
   "source": [
    "mds = sklearn.manifold.MDS()\n",
    "pos = mds.fit(M).embedding_\n",
    "x = pos[:,0]\n",
    "y = pos[:,1]\n",
    "fig, ax = plt.subplots(figsize = (6,6))\n",
    "plt.plot(x, y, ' ')\n",
    "for i, txt in enumerate(fileids):\n",
    "    ax.annotate(txt, (x[i],y[i]))"
   ]
  },
  {
   "cell_type": "code",
   "execution_count": 23,
   "metadata": {},
   "outputs": [
    {
     "data": {
      "image/png": "[encoded data removed]",
      "text/plain": [
       "<Figure size 432x288 with 2 Axes>"
      ]
     },
     "metadata": {
      "needs_background": "light"
     },
     "output_type": "display_data"
    }
   ],
   "source": [
    "L = []\n",
    "for p in corpora:\n",
    "    l = []\n",
    "    for q in corpora:\n",
    "        l.append(Divergence(p,q, difference='KS'))\n",
    "    L.append(l)\n",
    "M = np.array(L)\n",
    "fig = plt.figure()\n",
    "div = pd.DataFrame(M, columns = fileids, index = fileids)\n",
    "ax = sns.heatmap(div)\n",
    "plt.show()"
   ]
  },
  {
   "cell_type": "code",
   "execution_count": 24,
   "metadata": {},
   "outputs": [
    {
     "name": "stderr",
     "output_type": "stream",
     "text": [
      "S:\\Python-64\\lib\\site-packages\\sklearn\\manifold\\_mds.py:419: UserWarning: The MDS API has changed. ``fit`` now constructs an dissimilarity matrix from data. To use a custom dissimilarity matrix, set ``dissimilarity='precomputed'``.\n",
      "  warnings.warn(\"The MDS API has changed. ``fit`` now constructs an\"\n"
     ]
    },
    {
     "data": {
      "image/png": "[encoded data removed]",
      "text/plain": [
       "<Figure size 432x432 with 1 Axes>"
      ]
     },
     "metadata": {
      "needs_background": "light"
     },
     "output_type": "display_data"
    }
   ],
   "source": [
    "mds = sklearn.manifold.MDS()\n",
    "pos = mds.fit(M).embedding_\n",
    "x = pos[:,0]\n",
    "y = pos[:,1]\n",
    "fig, ax = plt.subplots(figsize = (6,6))\n",
    "plt.plot(x, y, ' ')\n",
    "for i, txt in enumerate(fileids):\n",
    "    ax.annotate(txt, (x[i],y[i]))"
   ]
  },
  {
   "cell_type": "code",
   "execution_count": 25,
   "metadata": {},
   "outputs": [
    {
     "data": {
      "image/png": "[encoded data removed]",
      "text/plain": [
       "<Figure size 432x288 with 2 Axes>"
      ]
     },
     "metadata": {
      "needs_background": "light"
     },
     "output_type": "display_data"
    }
   ],
   "source": [
    "L = []\n",
    "for p in corpora:\n",
    "    l = []\n",
    "    for q in corpora:\n",
    "        l.append(Divergence(p,q, difference='Wasserstein'))\n",
    "    L.append(l)\n",
    "M = np.array(L)\n",
    "fig = plt.figure()\n",
    "div = pd.DataFrame(M, columns = fileids, index = fileids)\n",
    "ax = sns.heatmap(div)\n",
    "plt.show()"
   ]
  },
  {
   "cell_type": "code",
   "execution_count": 26,
   "metadata": {},
   "outputs": [
    {
     "name": "stderr",
     "output_type": "stream",
     "text": [
      "S:\\Python-64\\lib\\site-packages\\sklearn\\manifold\\_mds.py:419: UserWarning: The MDS API has changed. ``fit`` now constructs an dissimilarity matrix from data. To use a custom dissimilarity matrix, set ``dissimilarity='precomputed'``.\n",
      "  warnings.warn(\"The MDS API has changed. ``fit`` now constructs an\"\n"
     ]
    },
    {
     "data": {
      "image/png": "[encoded data removed]",
      "text/plain": [
       "<Figure size 432x432 with 1 Axes>"
      ]
     },
     "metadata": {
      "needs_background": "light"
     },
     "output_type": "display_data"
    }
   ],
   "source": [
    "mds = sklearn.manifold.MDS()\n",
    "pos = mds.fit(M).embedding_\n",
    "x = pos[:,0]\n",
    "y = pos[:,1]\n",
    "fig, ax = plt.subplots(figsize = (6,6))\n",
    "plt.plot(x, y, ' ')\n",
    "for i, txt in enumerate(fileids):\n",
    "    ax.annotate(txt, (x[i],y[i]))"
   ]
  },
  {
   "cell_type": "code",
   "execution_count": 27,
   "metadata": {},
   "outputs": [
    {
     "data": {
      "image/png": "[encoded data removed]",
      "text/plain": [
       "<Figure size 432x288 with 2 Axes>"
      ]
     },
     "metadata": {
      "needs_background": "light"
     },
     "output_type": "display_data"
    }
   ],
   "source": [
    "L = []\n",
    "for p in corpora:\n",
    "    l = []\n",
    "    for q in corpora:\n",
    "        l.append(Divergence(p,q, difference='JS'))\n",
    "    L.append(l)\n",
    "M = np.array(L)\n",
    "fig = plt.figure()\n",
    "div = pd.DataFrame(M, columns = fileids, index = fileids)\n",
    "ax = sns.heatmap(div)\n",
    "plt.show()"
   ]
  },
  {
   "cell_type": "code",
   "execution_count": 28,
   "metadata": {},
   "outputs": [
    {
     "name": "stderr",
     "output_type": "stream",
     "text": [
      "S:\\Python-64\\lib\\site-packages\\sklearn\\manifold\\_mds.py:419: UserWarning: The MDS API has changed. ``fit`` now constructs an dissimilarity matrix from data. To use a custom dissimilarity matrix, set ``dissimilarity='precomputed'``.\n",
      "  warnings.warn(\"The MDS API has changed. ``fit`` now constructs an\"\n"
     ]
    },
    {
     "data": {
      "image/png": "[encoded data removed]",
      "text/plain": [
       "<Figure size 432x432 with 1 Axes>"
      ]
     },
     "metadata": {
      "needs_background": "light"
     },
     "output_type": "display_data"
    }
   ],
   "source": [
    "mds = sklearn.manifold.MDS()\n",
    "pos = mds.fit(M).embedding_\n",
    "x = pos[:,0]\n",
    "y = pos[:,1]\n",
    "fig, ax = plt.subplots(figsize = (6,6))\n",
    "plt.plot(x, y, ' ')\n",
    "for i, txt in enumerate(fileids):\n",
    "    ax.annotate(txt, (x[i],y[i]))"
   ]
  },
  {
   "cell_type": "markdown",
   "metadata": {},
   "source": [
    "The above analyses reveal that the four corpora I collect are very different from each other, though some of them only differ in terms of their collection times. Thus, I conclude that the content of discussion on Reddit and people's popular preference may change over time. Among those analyses, the Wasserstein distance works best compared with other methods, because it not only reveals the large divergence between each corpus, but also shows the subtle differences between each pair of divergence. \n",
    "<p>JS divergence is the average KL divergence between each distribution and the average of both distributions. It is symmetric by contrast to KL divergence."
   ]
  }
 ],
 "metadata": {
  "kernelspec": {
   "display_name": "Python 3",
   "language": "python",
   "name": "python3"
  },
  "language_info": {
   "codemirror_mode": {
    "name": "ipython",
    "version": 3
   },
   "file_extension": ".py",
   "mimetype": "text/x-python",
   "name": "python",
   "nbconvert_exporter": "python",
   "pygments_lexer": "ipython3",
   "version": "3.8.1"
  }
 },
 "nbformat": 4,
 "nbformat_minor": 2
}
